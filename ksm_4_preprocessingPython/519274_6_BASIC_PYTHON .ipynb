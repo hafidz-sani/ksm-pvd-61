{
  "nbformat": 4,
  "nbformat_minor": 0,
  "metadata": {
    "colab": {
      "name": "519274_6-BASIC PYTHON.ipynb",
      "provenance": [],
      "collapsed_sections": [
        "n6lp7Zkrr1Xd",
        "xd5YVTchr1Xl",
        "KafkeF7Xr1Xm",
        "jamo_Crcr1Xu",
        "mDbwAk-ir1Xy",
        "SUUFRtUQr1YG",
        "76wGcpuXr1YP",
        "aNaHrenlr1YS",
        "uKxqME-mr1YT",
        "w6dCdOcVr1Yn",
        "tSbzSexIr1Y8",
        "KhFvPWTir1Y-",
        "D5yXdklPr1ZZ",
        "Q-YldlnCr1Zl",
        "n42BSGu1r1Zm",
        "BQJydKB1r1Zm",
        "drFkh3tlr1Zw",
        "sTaUNnRyr1Zy",
        "UktHMeh2r1Zz",
        "I7weF2cr9WkV",
        "4ilEB9tS-R5k",
        "yBKHY9pw-mp8",
        "aYAx65ht-xMc",
        "Ezq_Pbxc_7-B",
        "kpDZkUV1AiAB",
        "BoG5VrRwCWu6",
        "viY-Mo2nzrIt",
        "mVLrq88v0TQb",
        "fr340pHP1tqt",
        "CFKr_MPJ3_5E",
        "uUVD8KZl6Yho",
        "HZ2REHsn9umj",
        "BvoVcdE2-FE1",
        "LyDysO-6_Vzp",
        "jKvZcLQ0GByo",
        "NqTt-YIoHUZr",
        "KiGTKWv8IDUF",
        "AZU7NztDIPr9",
        "7PI_yeAseNWh",
        "rrAKyrPaeVDk",
        "VErgVzb1fEyU",
        "_VHsAVE6fgpP",
        "qRrLCabBhL9H",
        "9y92UKUijwZu",
        "97qwGP_Dka_m",
        "zOx4Vcaak6W4",
        "mygHvmEWmHLr",
        "ZfmZs8MWmK4D",
        "nIaqVJJumToC",
        "UYUe0BcJmfEO",
        "THQA3sN_nhk4",
        "wziB-tPjxxS0",
        "U8rpBzEI0HVz",
        "qGVxNRV50XnJ",
        "3267L3z80hvz"
      ]
    },
    "kernelspec": {
      "display_name": "Python 3",
      "language": "python",
      "name": "python3"
    },
    "language_info": {
      "codemirror_mode": {
        "name": "ipython",
        "version": 3
      },
      "file_extension": ".py",
      "mimetype": "text/x-python",
      "name": "python",
      "nbconvert_exporter": "python",
      "pygments_lexer": "ipython3",
      "version": "3.7.6"
    }
  },
  "cells": [
    {
      "cell_type": "markdown",
      "metadata": {
        "id": "JEhYw69Tr1W9"
      },
      "source": [
        "# Variables, Strings, and Numbers"
      ]
    },
    {
      "cell_type": "markdown",
      "metadata": {
        "id": "mUgDe0por1W-"
      },
      "source": [
        "anaconda prompt"
      ]
    },
    {
      "cell_type": "markdown",
      "metadata": {
        "id": "9cJRikr4r1XA"
      },
      "source": [
        "Di bagian ini, Kita akan belajar menyimpan informasi dalam variabel.\n",
        "\n",
        "Kita akan belajar tentang dua jenis data: string, yang merupakan himpunan karakter, dan tipe data numerik."
      ]
    },
    {
      "cell_type": "markdown",
      "metadata": {
        "id": "NuwMgTbGr1XB"
      },
      "source": [
        "<a name='variables'></a>Variables\n",
        "===\n",
        "Variabel menyimpan nilai."
      ]
    },
    {
      "cell_type": "markdown",
      "metadata": {
        "id": "ppPIOKPkr1XC"
      },
      "source": [
        "<a name='example'></a>Example\n",
        "---"
      ]
    },
    {
      "cell_type": "code",
      "metadata": {
        "id": "CkdPxBtPr1XD",
        "outputId": "c140d7ba-0081-4aab-88cb-50790d381e07"
      },
      "source": [
        "message = \"Hello Python world!\"\n",
        "print(message)"
      ],
      "execution_count": null,
      "outputs": [
        {
          "output_type": "stream",
          "text": [
            "Hello Python world!\n"
          ],
          "name": "stdout"
        }
      ]
    },
    {
      "cell_type": "markdown",
      "metadata": {
        "id": "DfRmXoN8r1XK"
      },
      "source": [
        "Variabel menyimpan nilai. Kita dapat mengubah nilai suatu variabel di titik mana pun."
      ]
    },
    {
      "cell_type": "code",
      "metadata": {
        "id": "yAkuLR20r1XL",
        "outputId": "f3df81c1-9ca3-4c62-8f3f-f0c260b10e2b"
      },
      "source": [
        "message = \"Hello Python world!\"\n",
        "print(message)\n",
        "\n",
        "message = \"Python is my favorite language!\"\n",
        "print(message)"
      ],
      "execution_count": null,
      "outputs": [
        {
          "output_type": "stream",
          "text": [
            "Hello Python world!\n",
            "Python is my favorite language!\n"
          ],
          "name": "stdout"
        }
      ]
    },
    {
      "cell_type": "markdown",
      "metadata": {
        "id": "Ifvz9k2xr1XP"
      },
      "source": [
        "<a name='naming_rules'></a>Naming rules\n",
        "---\n",
        "- Variabel hanya dapat berisi huruf, angka, dan garis bawah. Nama variabel dapat dimulai dengan huruf atau garis bawah, tetapi tidak dapat dimulai dengan angka.\n",
        "- Spasi tidak diperbolehkan dalam nama variabel, jadi kami menggunakan garis bawah sebagai ganti spasi. Misalnya, gunakan nama_siswa sebagai ganti \"nama siswa\".\n",
        "- Kita tidak dapat menggunakan kata kunci Python sebagai nama variabel. (http://docs.python.org/3/reference/lexical_analysis.html#keywords).\n",
        "- Nama variabel harus deskriptif, tanpa terlalu panjang. Misalnya mc_wheels lebih baik dari sekadar \"roda\", dan number_of_wheels_on_a_motorycle.\n",
        "- Berhati-hatilah dalam menggunakan huruf kecil l dan huruf besar O di tempat-tempat yang dapat dikacaukan dengan angka 1 dan 0."
      ]
    },
    {
      "cell_type": "markdown",
      "metadata": {
        "id": "CZ5xDQQLr1XQ"
      },
      "source": [
        "<a name='name_error'></a>NameError\n",
        "---\n",
        "Ada satu kesalahan umum ketika menggunakan variabel, yang hampir sama pasti akan kita temui di beberapa titik. Lihatlah kode ini, dan lihat apakah Anda dapat mengetahui mengapa ini menyebabkan kesalahan."
      ]
    },
    {
      "cell_type": "code",
      "metadata": {
        "id": "XZYwwtUAr1XR",
        "colab": {
          "base_uri": "https://localhost:8080/",
          "height": 34
        },
        "outputId": "7d27ae77-0771-455d-a1db-ac8e250f7c8b"
      },
      "source": [
        "message = \"Thank you for sharing Python with the world, Guido!\"\n",
        "print(message)"
      ],
      "execution_count": null,
      "outputs": [
        {
          "output_type": "stream",
          "text": [
            "Thank you for sharing Python with the world, Guido!\n"
          ],
          "name": "stdout"
        }
      ]
    },
    {
      "cell_type": "markdown",
      "metadata": {
        "id": "6zoPJ49Yr1XV"
      },
      "source": [
        "Mari kita lihat pesan kesalahan ini. Pertama, kita lihat itu adalah NameError. Kemudian kita melihat file yang menyebabkan kesalahan, dan panah hijau menunjukkan kepada kita apa baris dalam file yang menyebabkan kesalahan. Kemudian kami mendapatkan umpan balik yang lebih spesifik, bahwa \"nama 'mesage' tidak didefinisikan\"."
      ]
    },
    {
      "cell_type": "markdown",
      "metadata": {
        "id": "VJaY2wlCr1XW"
      },
      "source": [
        "Anda mungkin telah melihat sumber kesalahan. Kami mengeja pesan dengan dua cara berbeda. Python tidak peduli apakah kita menggunakan nama variabel \"message\" atau \"mesage\". Python hanya peduli bahwa ejaan nama variabel kita cocok setiap kali kita menggunakannya.\n",
        "\n",
        "Ini cukup penting, karena memungkinkan kita untuk memiliki \"nama\" variabel dengan satu nama di dalamnya, dan kemudian variabel lain \"nama\" dengan banyak nama di dalamnya."
      ]
    },
    {
      "cell_type": "markdown",
      "metadata": {
        "id": "RdWPQSqdr1XX"
      },
      "source": [
        "Kami dapat memperbaiki **NameErrors** dengan memastikan semua nama variabel kami dieja secara konsisten."
      ]
    },
    {
      "cell_type": "code",
      "metadata": {
        "id": "bFW8_NXUr1XY",
        "outputId": "a87c4ef5-253c-487b-aeb2-647eeac8b76a"
      },
      "source": [
        "message = \"Thank you for sharing Python with the world, Guido!\"\n",
        "print(message)"
      ],
      "execution_count": null,
      "outputs": [
        {
          "output_type": "stream",
          "text": [
            "Thank you for sharing Python with the world, Guido!\n"
          ],
          "name": "stdout"
        }
      ]
    },
    {
      "cell_type": "markdown",
      "metadata": {
        "id": "C_dRNTSur1Xc"
      },
      "source": [
        "Jika Anda tidak tahu [Guido] (http://en.wikipedia.org/wiki/Guido_van_Rossum) [van Rossum] (http://www.python.org/~guido/) membuat bahasa Python lebih dari 20 tahun yang lalu, dan ia dianggap [Diktator Kebajikan untuk Kehidupan] Python (http://en.wikipedia.org/wiki/Benevolent_Dictator_for_Life). Guido masih menandatangani semua perubahan besar pada bahasa inti Python."
      ]
    },
    {
      "cell_type": "markdown",
      "metadata": {
        "id": "n6lp7Zkrr1Xd"
      },
      "source": [
        "<a name='exercises_variables'></a>Exercises\n",
        "---\n",
        "#### Hello World - variable\n",
        "\n",
        "-Simpan versi message Anda sendiri \"Hello World\" dalam variabel, dan print\n",
        "\n",
        "#### One Variable, Two Messages:\n",
        "- Simpan message dalam variabel, lalu print pesan itu.\n",
        "- Simpan message baru dalam variabel yang sama, lalu print pesan baru itu."
      ]
    },
    {
      "cell_type": "code",
      "metadata": {
        "id": "33Se2Bhkr1Xe",
        "outputId": "7d771bb9-7220-4bf1-8670-2758a3fb2c06"
      },
      "source": [
        "# Ex 1.1 : Hello World - Variable\n",
        "\n",
        "# put your code here\n",
        "message = \"Hello world\"\n",
        "print(message)"
      ],
      "execution_count": null,
      "outputs": [
        {
          "output_type": "stream",
          "text": [
            "Hello world\n"
          ],
          "name": "stdout"
        }
      ]
    },
    {
      "cell_type": "code",
      "metadata": {
        "id": "a111ele1r1Xh",
        "outputId": "12c0c363-c35c-4e70-db76-480c80410666"
      },
      "source": [
        "# Ex 1.2 : One Variable, Two Messages\n",
        "\n",
        "# put your code here\n",
        "message = \"Hello world\"\n",
        "message = \"Hi world\"\n",
        "print(message)"
      ],
      "execution_count": null,
      "outputs": [
        {
          "output_type": "stream",
          "text": [
            "Hi world\n"
          ],
          "name": "stdout"
        }
      ]
    },
    {
      "cell_type": "markdown",
      "metadata": {
        "id": "AWXo1mpcr1Xk"
      },
      "source": [
        "[top](#top)"
      ]
    },
    {
      "cell_type": "markdown",
      "metadata": {
        "id": "xd5YVTchr1Xl"
      },
      "source": [
        "<a name='strings'></a>Introduction to Strings\n",
        "===\n",
        "String adalah himpunan karakter. String lebih mudah dipahami dengan melihat beberapa contoh."
      ]
    },
    {
      "cell_type": "markdown",
      "metadata": {
        "id": "KafkeF7Xr1Xm"
      },
      "source": [
        "<a name='single_double_quotes'></a>Single and double quotes\n",
        "---\n",
        "Strings berisi kutipan tunggal atau ganda."
      ]
    },
    {
      "cell_type": "code",
      "metadata": {
        "id": "dOELKVjSr1Xm",
        "outputId": "919e4974-7f3e-49e6-9335-c9ab81b793c0"
      },
      "source": [
        "my_string = \"This is a \\\"double-quoted\\\" string.\"\n",
        "#my_string = 'This is a single-quoted string.'\n",
        "print(my_string)"
      ],
      "execution_count": null,
      "outputs": [
        {
          "output_type": "stream",
          "text": [
            "This is a \"double-quoted\" string.\n"
          ],
          "name": "stdout"
        }
      ]
    },
    {
      "cell_type": "markdown",
      "metadata": {
        "id": "It5ptR63r1Xq"
      },
      "source": [
        "Ayo coba membuat string yang berisi kutipan."
      ]
    },
    {
      "cell_type": "code",
      "metadata": {
        "id": "k1IajL9Lr1Xr"
      },
      "source": [
        "quote = \"Linus Torvalds once said, \\\n",
        "         'Any program is only as good as it is useful.'\""
      ],
      "execution_count": null,
      "outputs": []
    },
    {
      "cell_type": "markdown",
      "metadata": {
        "id": "jamo_Crcr1Xu"
      },
      "source": [
        "### Multiline Strings\n",
        "\n",
        "Jika kita perlu membuat string multiline, ada **triple-quote**, berikut contohnya:\n",
        "`'''`"
      ]
    },
    {
      "cell_type": "code",
      "metadata": {
        "id": "ipo5Tmzyr1Xv",
        "outputId": "f8e71c5e-f03d-4fb6-dfa4-1c75287ad415"
      },
      "source": [
        "multiline_string = '''This is a string where I \n",
        "can confortably write on multiple lines\n",
        "without worring about to use the escape character \"\\\\\" as in\n",
        "the previous example. \n",
        "As you'll see, the original string formatting is preserved.\n",
        "'''\n",
        "\n",
        "print(multiline_string)"
      ],
      "execution_count": null,
      "outputs": [
        {
          "output_type": "stream",
          "text": [
            "This is a string where I \n",
            "can confortably write on multiple lines\n",
            "without worring about to use the escape character \"\\\" as in\n",
            "the previous example. \n",
            "As you'll see, the original string formatting is preserved.\n",
            "\n"
          ],
          "name": "stdout"
        }
      ]
    },
    {
      "cell_type": "markdown",
      "metadata": {
        "id": "mDbwAk-ir1Xy"
      },
      "source": [
        "<a name='changing_case'></a>Changing case\n",
        "---\n",
        "Kita dapat dengan mudah mengubah case dari string, untuk menyajikannya seperti yang Kita inginkan."
      ]
    },
    {
      "cell_type": "code",
      "metadata": {
        "id": "SuKmnJILr1Xz",
        "colab": {
          "base_uri": "https://localhost:8080/",
          "height": 50
        },
        "outputId": "ef0fcef4-ea56-4972-ce40-37c60fc444f9"
      },
      "source": [
        "first_name = 'husna'\n",
        "\n",
        "print(first_name)\n",
        "print(first_name.title())"
      ],
      "execution_count": null,
      "outputs": [
        {
          "output_type": "stream",
          "text": [
            "husna\n",
            "Husna\n"
          ],
          "name": "stdout"
        }
      ]
    },
    {
      "cell_type": "markdown",
      "metadata": {
        "id": "YOyLMJn7r1X2"
      },
      "source": [
        "Sering kali baik untuk menyimpan data dalam huruf kecil, dan kemudian mengubah kasus seperti yang Anda inginkan untuk presentasi. Ini menangkap beberapa TYpos. Itu juga memastikan bahwa 'nadya', 'Nadya', dan 'NADYA' tidak dianggap sebagai tiga orang yang berbeda.\n",
        "\n",
        "Beberapa kasus yang paling umum adalah lebih lower, title, and upper."
      ]
    },
    {
      "cell_type": "code",
      "metadata": {
        "id": "Wl27C8Pur1X3",
        "colab": {
          "base_uri": "https://localhost:8080/",
          "height": 84
        },
        "outputId": "c8f29788-6b26-4991-f68d-b7ebfd02d6ac"
      },
      "source": [
        "first_name = 'nadya'\n",
        "\n",
        "print(first_name)\n",
        "print(first_name.title())\n",
        "print(first_name.upper())\n",
        "\n",
        "first_name_titled = 'NADYA'\n",
        "print(first_name_titled.lower())"
      ],
      "execution_count": null,
      "outputs": [
        {
          "output_type": "stream",
          "text": [
            "nadya\n",
            "Nadya\n",
            "NADYA\n",
            "nadya\n"
          ],
          "name": "stdout"
        }
      ]
    },
    {
      "cell_type": "markdown",
      "metadata": {
        "id": "x7hqSIXXr1X8"
      },
      "source": [
        "**Catatan**: Harap perhatikan bahwa string asli tetap **Ada** tidak berubah"
      ]
    },
    {
      "cell_type": "code",
      "metadata": {
        "id": "bhni4akMr1X9",
        "colab": {
          "base_uri": "https://localhost:8080/",
          "height": 50
        },
        "outputId": "9eae5451-1c03-48b0-c03f-b1d97f9f291f"
      },
      "source": [
        "print(first_name)\n",
        "print(first_name_titled)"
      ],
      "execution_count": null,
      "outputs": [
        {
          "output_type": "stream",
          "text": [
            "nadya\n",
            "NADYA\n"
          ],
          "name": "stdout"
        }
      ]
    },
    {
      "cell_type": "markdown",
      "metadata": {
        "id": "QUXv8r6pr1YC"
      },
      "source": [
        "Kita akan melihat sintaks ini cukup sering, di mana nama variabel diikuti oleh titik dan kemudian nama tindakan, diikuti oleh seperangkat tanda kurung. Kurung mungkin kosong, atau mungkin mengandung beberapa nilai.\n",
        "\n",
        "    variable_name.action()\n",
        "\n",
        "Dalam contoh ini, kata \"action\" adalah nama **metode**."
      ]
    },
    {
      "cell_type": "markdown",
      "metadata": {
        "id": "LiWzlBWnr1YE"
      },
      "source": [
        "Metode adalah sesuatu yang dapat dilakukan untuk suatu variabel."
      ]
    },
    {
      "cell_type": "markdown",
      "metadata": {
        "id": "SNaNv02Mr1YF"
      },
      "source": [
        "Metode lower, title, and upper adalah semua fungsi yang telah ditulis ke dalam bahasa Python, yang melakukan sesuatu untuk string.\n",
        "\n",
        "Kemudian, Kita akan belajar menulis metode Kita sendiri."
      ]
    },
    {
      "cell_type": "markdown",
      "metadata": {
        "id": "SUUFRtUQr1YG"
      },
      "source": [
        "<a name='concatenation'></a>Menggabungkan string (penggabungan)\n",
        "---\n",
        "Seringkali sangat berguna untuk dapat menggabungkan string menjadi pesan atau elemen halaman yang ingin kami tampilkan. Sekali lagi, ini lebih mudah dipahami melalui contoh."
      ]
    },
    {
      "cell_type": "code",
      "metadata": {
        "id": "djCoe6mgr1YH",
        "colab": {
          "base_uri": "https://localhost:8080/",
          "height": 34
        },
        "outputId": "7e887493-f539-46e3-b38c-8f6b338a5368"
      },
      "source": [
        "first_name = 'nadya'\n",
        "last_name = 'husna'\n",
        "\n",
        "full_name = first_name + ' ' + last_name\n",
        "\n",
        "print(full_name.title())"
      ],
      "execution_count": null,
      "outputs": [
        {
          "output_type": "stream",
          "text": [
            "Nadya Husna\n"
          ],
          "name": "stdout"
        }
      ]
    },
    {
      "cell_type": "markdown",
      "metadata": {
        "id": "WIuhH4RYr1YK"
      },
      "source": [
        "Tanda plus menggabungkan dua string menjadi satu, yang disebut **penggabungan**."
      ]
    },
    {
      "cell_type": "markdown",
      "metadata": {
        "id": "0BDeUFEAr1YL"
      },
      "source": [
        "Kita dapat menggunakan tanda plus sebanyak yang Kita inginkan dalam menulis pesan. Bahkan, banyak halaman web ditulis sebagai string besar yang disatukan melalui serangkaian panjang rangkaian string."
      ]
    },
    {
      "cell_type": "code",
      "metadata": {
        "id": "ya5zNf_or1YL",
        "colab": {
          "base_uri": "https://localhost:8080/",
          "height": 34
        },
        "outputId": "8af355e7-6a1e-4d7e-9fca-fcff09eab43b"
      },
      "source": [
        "first_name = 'nadya'\n",
        "last_name = 'husna'\n",
        "full_name = first_name + ' ' + last_name\n",
        "\n",
        "message = full_name.title() + ' ' + \\\n",
        "        \"is your trainer today.\"\n",
        "\n",
        "print(message)"
      ],
      "execution_count": null,
      "outputs": [
        {
          "output_type": "stream",
          "text": [
            "Nadya Husna is your trainer today.\n"
          ],
          "name": "stdout"
        }
      ]
    },
    {
      "cell_type": "markdown",
      "metadata": {
        "id": "Q_eRbtmer1YO"
      },
      "source": [
        "If you don't know who Ada Lovelace is, you might want to go read what [Wikipedia](http://en.wikipedia.org/wiki/Ada_Lovelace) or the [Computer History Museum](http://www.computerhistory.org/babbage/adalovelace/) have to say about her. Her life and her work are also the inspiration for the [Ada Initiative](http://adainitiative.org/faq/about-ada-lovelace/), which supports women who are involved in technical fields."
      ]
    },
    {
      "cell_type": "markdown",
      "metadata": {
        "id": "76wGcpuXr1YP"
      },
      "source": [
        "### Pengantar singkat untuk pemformatan string"
      ]
    },
    {
      "cell_type": "code",
      "metadata": {
        "id": "cHPUGWXYr1YQ",
        "outputId": "1c8d7f85-6fee-4e1d-a469-e54bd6b1af49"
      },
      "source": [
        "string_template = 'The result of the calculation of {calc} is {res}'\n",
        "print(\"String Template: \", string_template)\n",
        "\n",
        "print(string_template.format(calc='(3*4)+2', res=(3*4)+2))"
      ],
      "execution_count": null,
      "outputs": [
        {
          "output_type": "stream",
          "text": [
            "String Template:  The result of the calculation of {calc} is {res}\n",
            "The result of the calculation of (3*4)+2 is 14\n"
          ],
          "name": "stdout"
        }
      ]
    },
    {
      "cell_type": "code",
      "metadata": {
        "id": "pXh1pHDkuT9_",
        "colab": {
          "base_uri": "https://localhost:8080/",
          "height": 51
        },
        "outputId": "88c7e663-96bf-497d-a372-7e98ed587a1a"
      },
      "source": [
        "s_t = 'Hasil operasi dari {operasi} adalah {hasil}'\n",
        "print(\"String Template: \", s_t)\n",
        "\n",
        "s_t.format(operasi='(1+2)*3', hasil=(1+2)*3)"
      ],
      "execution_count": null,
      "outputs": [
        {
          "output_type": "stream",
          "text": [
            "String Template:  Hasil operasi dari {operasi} adalah {hasil}\n"
          ],
          "name": "stdout"
        },
        {
          "output_type": "execute_result",
          "data": {
            "text/plain": [
              "'Hasil operasi dari (1+2)*3 adalah 9'"
            ]
          },
          "metadata": {
            "tags": []
          },
          "execution_count": 3
        }
      ]
    },
    {
      "cell_type": "markdown",
      "metadata": {
        "id": "aNaHrenlr1YS"
      },
      "source": [
        "### There's much more than that!\n",
        "\n",
        "Untuk informasi lebih lanjut tentang pemformatan string, lihat dokumentasi online resmi tentang modul string. (https://docs.python.org/3/library/string.html)"
      ]
    },
    {
      "cell_type": "markdown",
      "metadata": {
        "id": "uKxqME-mr1YT"
      },
      "source": [
        "<a name='whitespace'></a>Whitespace\n",
        "---\n",
        "Istilah \"whitespace\" mengacu pada karakter yang diketahui komputer, tetapi tidak terlihat oleh pembaca. Karakter whitespace yang paling umum adalah spasi, tab, dan baris baru.\n",
        "\n",
        "Spasi mudah dibuat, karena kita telah lama menggunakannya menggunakan komputer. Tab dan baris baru diwakili oleh kombinasi karakter khusus.\n",
        "\n",
        "Kombinasi dua karakter \"\\t\" membuat tab muncul dalam string. Tab dapat digunakan di mana saja Anda suka dalam sebuah string."
      ]
    },
    {
      "cell_type": "code",
      "metadata": {
        "id": "rkHbwd3ir1YU",
        "outputId": "207bb058-549f-4fb2-b58b-a90163392a20"
      },
      "source": [
        "print(\"Hello everyone!\")"
      ],
      "execution_count": null,
      "outputs": [
        {
          "output_type": "stream",
          "text": [
            "Hello everyone!\n"
          ],
          "name": "stdout"
        }
      ]
    },
    {
      "cell_type": "code",
      "metadata": {
        "id": "J0ViVTQhr1YX",
        "outputId": "f277dde7-0305-4ada-c0b8-a93a8afb6992"
      },
      "source": [
        "print(\"\\tHello everyone!\")"
      ],
      "execution_count": null,
      "outputs": [
        {
          "output_type": "stream",
          "text": [
            "\tHello everyone!\n"
          ],
          "name": "stdout"
        }
      ]
    },
    {
      "cell_type": "code",
      "metadata": {
        "id": "Rf1jEUsur1YZ",
        "outputId": "0e235a3a-53a4-45ab-fa4c-458b0f51e6ca"
      },
      "source": [
        "print(\"Hello \\teveryone!\")"
      ],
      "execution_count": null,
      "outputs": [
        {
          "output_type": "stream",
          "text": [
            "Hello \teveryone!\n"
          ],
          "name": "stdout"
        }
      ]
    },
    {
      "cell_type": "markdown",
      "metadata": {
        "id": "ogw2fLc2r1Yd"
      },
      "source": [
        "Kombinasi \"\\n\" membuat baris baru muncul dalam string. Kita dapat menggunakan baris baru di mana saja kita suka dalam sebuah string."
      ]
    },
    {
      "cell_type": "code",
      "metadata": {
        "id": "FvMgxhVBr1Ye",
        "outputId": "820b3de0-2a1f-4bcf-832d-8dff91cea66f"
      },
      "source": [
        "print(\"Hello everyone!\")"
      ],
      "execution_count": null,
      "outputs": [
        {
          "output_type": "stream",
          "text": [
            "Hello everyone!\n"
          ],
          "name": "stdout"
        }
      ]
    },
    {
      "cell_type": "code",
      "metadata": {
        "id": "CW225CIkr1Yg",
        "outputId": "ec7de2d0-dd1c-4850-8f69-035f0b2e9a4d"
      },
      "source": [
        "print(\"\\nHello everyone!\")"
      ],
      "execution_count": null,
      "outputs": [
        {
          "output_type": "stream",
          "text": [
            "\n",
            "Hello everyone!\n"
          ],
          "name": "stdout"
        }
      ]
    },
    {
      "cell_type": "code",
      "metadata": {
        "id": "DNBsgT4sr1Yi",
        "outputId": "2c1e70a9-e60d-4d0c-897f-dc1ae2add891"
      },
      "source": [
        "print(\"Hello \\neveryone!\")"
      ],
      "execution_count": null,
      "outputs": [
        {
          "output_type": "stream",
          "text": [
            "Hello \n",
            "everyone!\n"
          ],
          "name": "stdout"
        }
      ]
    },
    {
      "cell_type": "code",
      "metadata": {
        "id": "eklViL6ar1Yl",
        "outputId": "a55851f8-e477-4a1b-ba6c-d5d854a0f619"
      },
      "source": [
        "print(\"\\n\\n\\nHello everyone!\")"
      ],
      "execution_count": null,
      "outputs": [
        {
          "output_type": "stream",
          "text": [
            "\n",
            "\n",
            "\n",
            "Hello everyone!\n"
          ],
          "name": "stdout"
        }
      ]
    },
    {
      "cell_type": "markdown",
      "metadata": {
        "id": "w6dCdOcVr1Yn"
      },
      "source": [
        "### Memahami whitespace\n",
        "\n",
        "\n",
        "Sering kali kita mengizinkan users untuk menginput teks ke dalam kotak, dan kemudian kita akan membaca teks itu dan menggunakannya. Sangat mudah bagi orang untuk memasukkan whitespace di awal atau akhir teks mereka. Spasi mencakup ruang, tab, dan baris baru.\n",
        "\n",
        "Sering kali ide yang baik untuk menghapus whitespace ini dari string sebelum kita mulai bekerja dengan mereka. Misalnya, Anda mungkin ingin membiarkan orang lain masuk, dan Anda mungkin ingin memperlakukan 'nadya' sebagai 'nadya' ketika kita mencoba melihat apakah saya ada di sistem Anda."
      ]
    },
    {
      "cell_type": "markdown",
      "metadata": {
        "id": "_mL_tttLr1Yo"
      },
      "source": [
        "Kita dapat menghapus spasi dari sisi kiri, sisi kanan, atau kedua sisi string."
      ]
    },
    {
      "cell_type": "code",
      "metadata": {
        "id": "5JbWhfJZr1Yo",
        "colab": {
          "base_uri": "https://localhost:8080/",
          "height": 68
        },
        "outputId": "0c84c530-71a1-4d9b-a030-e55c22b8645e"
      },
      "source": [
        "name = ' nadya '\n",
        "\n",
        "print(name.lstrip())\n",
        "print(name.rstrip())\n",
        "print(name.strip())"
      ],
      "execution_count": null,
      "outputs": [
        {
          "output_type": "stream",
          "text": [
            "nadya \n",
            " nadya\n",
            "nadya\n"
          ],
          "name": "stdout"
        }
      ]
    },
    {
      "cell_type": "markdown",
      "metadata": {
        "id": "b0ZGQqbnr1Yq"
      },
      "source": [
        "Sulit untuk melihat dengan tepat apa yang terjadi, jadi mungkin yang berikut ini akan membuatnya sedikit lebih jelas:"
      ]
    },
    {
      "cell_type": "code",
      "metadata": {
        "id": "yRhN90TLr1Yr",
        "colab": {
          "base_uri": "https://localhost:8080/",
          "height": 68
        },
        "outputId": "f5789a33-dad2-4c65-d742-b1a506f49d13"
      },
      "source": [
        "name = ' nadya '\n",
        "\n",
        "print('-' + name.lstrip() + '-')\n",
        "print('-' + name.rstrip() + '-')\n",
        "print('-' + name.strip() + '-')"
      ],
      "execution_count": null,
      "outputs": [
        {
          "output_type": "stream",
          "text": [
            "-nadya -\n",
            "- nadya-\n",
            "-nadya-\n"
          ],
          "name": "stdout"
        }
      ]
    },
    {
      "cell_type": "markdown",
      "metadata": {
        "id": "tSbzSexIr1Y8"
      },
      "source": [
        "<a name='numbers'></a>Numbers\n",
        "===\n",
        "Berurusan dengan data numerik sederhana cukup mudah dalam Python, tetapi ada beberapa hal yang harus Anda ketahui."
      ]
    },
    {
      "cell_type": "markdown",
      "metadata": {
        "id": "KhFvPWTir1Y-"
      },
      "source": [
        "<a name='integers'></a>Integers\n",
        "---\n",
        "Kita dapat melakukan semua operasi dasar dengan bilangan bulat, dan semuanya harus berperilaku seperti yang Kita harapkan. Penambahan dan pengurangan menggunakan simbol standar + dan -. Perkalian menggunakan tanda bintang, dan pembagian menggunakan garis miring ke depan. Eksponen menggunakan dua tanda *"
      ]
    },
    {
      "cell_type": "code",
      "metadata": {
        "id": "yRvyOHhSr1Y_",
        "outputId": "5b87be08-c151-4383-d422-3e624797d131"
      },
      "source": [
        "print(3+2)"
      ],
      "execution_count": null,
      "outputs": [
        {
          "output_type": "stream",
          "text": [
            "5\n"
          ],
          "name": "stdout"
        }
      ]
    },
    {
      "cell_type": "code",
      "metadata": {
        "id": "sdbQv781r1ZD",
        "outputId": "7b2a4416-54be-4854-f8fa-be1e0f1a4905"
      },
      "source": [
        "print(3-2)"
      ],
      "execution_count": null,
      "outputs": [
        {
          "output_type": "stream",
          "text": [
            "1\n"
          ],
          "name": "stdout"
        }
      ]
    },
    {
      "cell_type": "code",
      "metadata": {
        "id": "OKm_Cijrr1ZH",
        "outputId": "4873498e-5dc8-4205-f075-e69e4c48e0f5"
      },
      "source": [
        "print(3*2)"
      ],
      "execution_count": null,
      "outputs": [
        {
          "output_type": "stream",
          "text": [
            "6\n"
          ],
          "name": "stdout"
        }
      ]
    },
    {
      "cell_type": "code",
      "metadata": {
        "id": "Mch0a8GXr1ZK",
        "outputId": "47446285-9e51-452a-f3d6-b8ef1cca0d9f"
      },
      "source": [
        "print(3/2)"
      ],
      "execution_count": null,
      "outputs": [
        {
          "output_type": "stream",
          "text": [
            "1.5\n"
          ],
          "name": "stdout"
        }
      ]
    },
    {
      "cell_type": "code",
      "metadata": {
        "id": "qHDEWkzZr1ZO",
        "outputId": "814b3938-26d9-4fbb-9dc4-0e352c7b332a"
      },
      "source": [
        "print(3**2)"
      ],
      "execution_count": null,
      "outputs": [
        {
          "output_type": "stream",
          "text": [
            "9\n"
          ],
          "name": "stdout"
        }
      ]
    },
    {
      "cell_type": "markdown",
      "metadata": {
        "id": "jxV__LmZr1ZR"
      },
      "source": [
        "You can use parenthesis to modify the standard order of operations."
      ]
    },
    {
      "cell_type": "code",
      "metadata": {
        "id": "Zvq2Hl86r1ZR",
        "outputId": "6e688e05-1e73-4d09-bafd-21177d36cb10"
      },
      "source": [
        "standard_order = 2+3*4\n",
        "print(standard_order)"
      ],
      "execution_count": null,
      "outputs": [
        {
          "output_type": "stream",
          "text": [
            "14\n"
          ],
          "name": "stdout"
        }
      ]
    },
    {
      "cell_type": "code",
      "metadata": {
        "id": "S4Jr32NKr1ZT",
        "outputId": "29cafc1e-2150-444a-cf2d-2b36e1d2d28d"
      },
      "source": [
        "my_order = (2+3)*4\n",
        "print(my_order)"
      ],
      "execution_count": null,
      "outputs": [
        {
          "output_type": "stream",
          "text": [
            "20\n"
          ],
          "name": "stdout"
        }
      ]
    },
    {
      "cell_type": "markdown",
      "metadata": {
        "id": "D5yXdklPr1ZZ"
      },
      "source": [
        "<a name='floats'></a>Floating-Point numbers\n",
        "---\n",
        "floating-point merujuk ke suatu nomor dengan titik desimal. Kita dapat menganggap angka floating point sebagai desimal, dan akan menunjukkan seperti yang Anda harapkan."
      ]
    },
    {
      "cell_type": "code",
      "metadata": {
        "id": "FIoB3UG0r1ZZ",
        "colab": {
          "base_uri": "https://localhost:8080/",
          "height": 34
        },
        "outputId": "ce8b7564-7df9-41c9-8503-19ac3efa95c6"
      },
      "source": [
        "print(0.1+0.1)"
      ],
      "execution_count": null,
      "outputs": [
        {
          "output_type": "stream",
          "text": [
            "0.2\n"
          ],
          "name": "stdout"
        }
      ]
    },
    {
      "cell_type": "markdown",
      "metadata": {
        "id": "yPpfdv_5r1Ze"
      },
      "source": [
        "Namun, terkadang kita akan mendapatkan jawaban dengan bagian panjang desimal yang tidak terduga:"
      ]
    },
    {
      "cell_type": "code",
      "metadata": {
        "id": "yh3cQSyxr1Zf",
        "colab": {
          "base_uri": "https://localhost:8080/",
          "height": 34
        },
        "outputId": "3fc70312-05a1-48a8-8167-f7819d31b319"
      },
      "source": [
        "print(0.1+0.2)"
      ],
      "execution_count": null,
      "outputs": [
        {
          "output_type": "stream",
          "text": [
            "0.30000000000000004\n"
          ],
          "name": "stdout"
        }
      ]
    },
    {
      "cell_type": "markdown",
      "metadata": {
        "id": "a3K3vPXEr1Zh"
      },
      "source": [
        "Ini terjadi karena cara komputer mewakili angka secara internal; ini tidak ada hubungannya dengan Python itu sendiri. Pada dasarnya, kita terbiasa bekerja dalam kekuatan sepuluh, di mana satu persepuluh ditambah dua persepuluh hanya tiga persepuluh. Tetapi komputer bekerja dalam kekuatan dua. Jadi komputer Kita harus mewakili 0,1 dalam kekuatan dua, dan kemudian 0,2 sebagai kekuatan dua, dan menyatakan jumlah mereka sebagai kekuatan dua. Tidak ada representasi tepat untuk 0,3 dalam kekuatan dua, dan kami melihat bahwa dalam jawaban untuk 0,1 + 0,2.\n",
        "\n",
        "Python mencoba menyembunyikan hal semacam ini jika memungkinkan. Jangan khawatir tentang hal itu untuk saat ini; jangan kaget dengan itu, dan ketahuilah bahwa kita akan belajar untuk membersihkan hasil kita sedikit di kemudian hari."
      ]
    },
    {
      "cell_type": "markdown",
      "metadata": {
        "id": "a5n1QcGhr1Zh"
      },
      "source": [
        "You can also get the same kind of result with other operations."
      ]
    },
    {
      "cell_type": "code",
      "metadata": {
        "id": "K2q7E4osr1Zi",
        "outputId": "3352dfcd-5dc0-4107-8741-e9fc2909b3aa"
      },
      "source": [
        "print(3*0.1)"
      ],
      "execution_count": null,
      "outputs": [
        {
          "output_type": "stream",
          "text": [
            "0.30000000000000004\n"
          ],
          "name": "stdout"
        }
      ]
    },
    {
      "cell_type": "code",
      "metadata": {
        "id": "j7X6WKz_r1Zj",
        "outputId": "0e95275e-eeba-4337-fabe-b98cb53d9b25"
      },
      "source": [
        "# Test\n",
        "3 * 0.1 == 0.3"
      ],
      "execution_count": null,
      "outputs": [
        {
          "output_type": "execute_result",
          "data": {
            "text/plain": [
              "False"
            ]
          },
          "metadata": {
            "tags": []
          },
          "execution_count": 40
        }
      ]
    },
    {
      "cell_type": "markdown",
      "metadata": {
        "id": "Q-YldlnCr1Zl"
      },
      "source": [
        "### See Also\n",
        "\n",
        "* [What Every Computer Scientist Should Know About Floating-Point Arithmetic](http://docs.oracle.com/cd/E19957-01/806-3568/ncg_goldberg.html)\n",
        "* [`decimal` module](https://docs.python.org/3/library/decimal.html)\n",
        "\n"
      ]
    },
    {
      "cell_type": "markdown",
      "metadata": {
        "id": "n42BSGu1r1Zm"
      },
      "source": [
        "## Example using decimal"
      ]
    },
    {
      "cell_type": "markdown",
      "metadata": {
        "id": "BQJydKB1r1Zm"
      },
      "source": [
        "### Note\n",
        "\n",
        "Instruksi pertama sel sebelumnya adalah contoh **selektif impor modul**.\n",
        "Sejauh ini, perlu diketahui bahwa pola sintaks dari selektif impor modul:\n",
        "\n",
        "    from module import something[,something else comma separated]\n",
        "\n",
        "Lihat lebih lanjut tentang ini di notebook yang khusus ditujukan untuk ini!"
      ]
    },
    {
      "cell_type": "markdown",
      "metadata": {
        "id": "drFkh3tlr1Zw"
      },
      "source": [
        "<a name='comments'></a>Comments\n",
        "===\n",
        "Ketika Kita mulai menulis kode yang lebih rumit, Anda harus meluangkan lebih banyak waktu untuk memikirkan cara membuat kode solusi untuk masalah yang ingin Kita selesaikan. Setelah Kita mendapatkan ide, Anda akan menghabiskan cukup banyak waktu untuk memecahkan masalah kode Kita, dan merevisi pendekatan keseluruhan Anda.\n",
        "\n",
        "Komentar memungkinkan Anda untuk menulis dalam bahasa Inggris / Indonesia, dalam program Anda. Dalam Python, baris apa pun yang dimulai dengan simbol pon (#) diabaikan oleh penerjemah Python."
      ]
    },
    {
      "cell_type": "code",
      "metadata": {
        "id": "ORPcagIar1Zw",
        "outputId": "cf1045b4-094c-48c7-e786-308e051ba148"
      },
      "source": [
        "# This line is a comment.\n",
        "#this \n",
        "#is \n",
        "#not\n",
        "\n",
        "print(\"This line is not a comment, it is code.\")"
      ],
      "execution_count": null,
      "outputs": [
        {
          "output_type": "stream",
          "text": [
            "This line is not a comment, it is code.\n"
          ],
          "name": "stdout"
        }
      ]
    },
    {
      "cell_type": "markdown",
      "metadata": {
        "id": "sTaUNnRyr1Zy"
      },
      "source": [
        "<a name='good_comments'></a>Apa yang membuat komentar yang bagus?\n",
        "---\n",
        "- Ini singkat dan to the point, tetapi pemikiran yang lengkap. Kebanyakan komentar harus ditulis dalam kalimat lengkap.\n",
        "- Ini menjelaskan pemikiran Kita, sehingga ketika Kita kembali ke kode nanti Kita akan mengerti bagaimana Kita mendekati masalah.\n",
        "- Ini menjelaskan pemikiran Kita, sehingga orang lain yang bekerja dengan kode Kita akan memahami pendekatan keseluruhan Kita terhadap suatu masalah.\n",
        "- Ini menjelaskan bagian kode yang sulit secara terperinci."
      ]
    },
    {
      "cell_type": "markdown",
      "metadata": {
        "id": "UktHMeh2r1Zz"
      },
      "source": [
        "<a name='when_comments'></a>Kapan Kita harus menulis komentar?\n",
        "---\n",
        "- Ketika Kita harus memikirkan kode sebelum menulisnya.\n",
        "- Saat Kita mungkin lupa nanti bagaimana tepatnya Kita mendekati masalah.\n",
        "- Ketika ada lebih dari satu cara untuk menyelesaikan masalah.\n",
        "- Ketika orang lain tidak mungkin mengantisipasi cara Kita berpikir tentang suatu masalah.\n",
        "\n",
        "Menulis komentar yang baik adalah salah satu tanda yang jelas dari seorang programmer yang baik. Jika Kita benar-benar berminat untuk menganggap serius pemrograman, mulailah menggunakan komentar sekarang. Kita akan melihatnya di seluruh contoh di buku catatan ini."
      ]
    },
    {
      "cell_type": "markdown",
      "metadata": {
        "id": "I7weF2cr9WkV"
      },
      "source": [
        "<a name='introducing'></a>Introducing Lists\n",
        "===\n",
        "<a name='example'></a>Contoh\n",
        "---\n",
        "\n",
        "List adalah kumpulan item, yang disimpan dalam variabel. Barang-barang harus terkait dalam beberapa cara, tetapi tidak ada batasan pada apa yang dapat disimpan dalam list. Ini adalah contoh sederhana dari list, dan bagaimana kita dapat dengan cepat mengakses setiap item dalam list."
      ]
    },
    {
      "cell_type": "code",
      "metadata": {
        "id": "BAKMBT_w9Ynu"
      },
      "source": [
        "buah = ['anggur', 'jeruk', 'apel']"
      ],
      "execution_count": null,
      "outputs": []
    },
    {
      "cell_type": "code",
      "metadata": {
        "id": "n_IB9l_t9kIc",
        "colab": {
          "base_uri": "https://localhost:8080/",
          "height": 33
        },
        "outputId": "5b91e43d-45eb-4a6a-941f-2dfc5fe2b7ed"
      },
      "source": [
        "buah"
      ],
      "execution_count": null,
      "outputs": [
        {
          "output_type": "execute_result",
          "data": {
            "text/plain": [
              "['anggur', 'jeruk', 'apel']"
            ]
          },
          "metadata": {
            "tags": []
          },
          "execution_count": 2
        }
      ]
    },
    {
      "cell_type": "markdown",
      "metadata": {
        "id": "7Ip5moIF93Bi"
      },
      "source": [
        "Dalam Python, tanda kurung kotak [] menunjuk list. Untuk mendefinisikan list, Kita memberikan nama list, tanda sama dengan, dan nilai yang ingin kita sertakan dalam daftar kita dalam tanda kurung siku."
      ]
    },
    {
      "cell_type": "code",
      "metadata": {
        "id": "h8zPc7E79nWm"
      },
      "source": [
        "dogs = ['border collie', \n",
        "        'australian cattle dog', \n",
        "        'labrador retriever']"
      ],
      "execution_count": null,
      "outputs": []
    },
    {
      "cell_type": "code",
      "metadata": {
        "id": "oEpfznY495qp",
        "colab": {
          "base_uri": "https://localhost:8080/",
          "height": 33
        },
        "outputId": "3686782e-ddfb-4701-be44-305a18226f20"
      },
      "source": [
        "dog = dogs[2]\n",
        "print(dog.title())"
      ],
      "execution_count": null,
      "outputs": [
        {
          "output_type": "stream",
          "text": [
            "Labrador Retriever\n"
          ],
          "name": "stdout"
        }
      ]
    },
    {
      "cell_type": "code",
      "metadata": {
        "id": "ndi4s5cQ98xB",
        "colab": {
          "base_uri": "https://localhost:8080/",
          "height": 33
        },
        "outputId": "6f0f0fad-1633-4217-8f73-01de3928ffce"
      },
      "source": [
        "dog1 = dogs[0]\n",
        "print(dog1.title())"
      ],
      "execution_count": null,
      "outputs": [
        {
          "output_type": "stream",
          "text": [
            "Border Collie\n"
          ],
          "name": "stdout"
        }
      ]
    },
    {
      "cell_type": "code",
      "metadata": {
        "id": "gC9rzNN69_cw",
        "colab": {
          "base_uri": "https://localhost:8080/",
          "height": 33
        },
        "outputId": "8add9a44-1442-4619-815c-5ea4399552ed"
      },
      "source": [
        "dog = dogs[1]\n",
        "print(dog.title())"
      ],
      "execution_count": null,
      "outputs": [
        {
          "output_type": "stream",
          "text": [
            "Australian Cattle Dog\n"
          ],
          "name": "stdout"
        }
      ]
    },
    {
      "cell_type": "code",
      "metadata": {
        "id": "kVgoIXmN-CkG",
        "colab": {
          "base_uri": "https://localhost:8080/",
          "height": 33
        },
        "outputId": "6e787829-3897-4590-a72c-44aa4b25151e"
      },
      "source": [
        "dog = dogs[-1]\n",
        "print(dog.title())"
      ],
      "execution_count": null,
      "outputs": [
        {
          "output_type": "stream",
          "text": [
            "Labrador Retriever\n"
          ],
          "name": "stdout"
        }
      ]
    },
    {
      "cell_type": "markdown",
      "metadata": {
        "id": "UcNtw9-V-LLG"
      },
      "source": [
        "Anda tidak dapat menggunakan angka negatif yang lebih besar dari panjang daftar."
      ]
    },
    {
      "cell_type": "code",
      "metadata": {
        "id": "bKHXX3DX-GFE",
        "colab": {
          "base_uri": "https://localhost:8080/",
          "height": 180
        },
        "outputId": "11fb68c7-ce89-4af5-8454-f19895d89c0e"
      },
      "source": [
        "dog = dogs[-4]\n",
        "print(dog.title())"
      ],
      "execution_count": null,
      "outputs": [
        {
          "output_type": "error",
          "ename": "IndexError",
          "evalue": "ignored",
          "traceback": [
            "\u001b[0;31m---------------------------------------------------------------------------\u001b[0m",
            "\u001b[0;31mIndexError\u001b[0m                                Traceback (most recent call last)",
            "\u001b[0;32m<ipython-input-8-18cbc6479bf9>\u001b[0m in \u001b[0;36m<module>\u001b[0;34m()\u001b[0m\n\u001b[0;32m----> 1\u001b[0;31m \u001b[0mdog\u001b[0m \u001b[0;34m=\u001b[0m \u001b[0mdogs\u001b[0m\u001b[0;34m[\u001b[0m\u001b[0;34m-\u001b[0m\u001b[0;36m4\u001b[0m\u001b[0;34m]\u001b[0m\u001b[0;34m\u001b[0m\u001b[0;34m\u001b[0m\u001b[0m\n\u001b[0m\u001b[1;32m      2\u001b[0m \u001b[0mprint\u001b[0m\u001b[0;34m(\u001b[0m\u001b[0mdog\u001b[0m\u001b[0;34m.\u001b[0m\u001b[0mtitle\u001b[0m\u001b[0;34m(\u001b[0m\u001b[0;34m)\u001b[0m\u001b[0;34m)\u001b[0m\u001b[0;34m\u001b[0m\u001b[0;34m\u001b[0m\u001b[0m\n",
            "\u001b[0;31mIndexError\u001b[0m: list index out of range"
          ]
        }
      ]
    },
    {
      "cell_type": "markdown",
      "metadata": {
        "id": "4ilEB9tS-R5k"
      },
      "source": [
        "<a name='accessing_all_elements'></a>Mengakses semua elemen dalam list\n",
        "---\n",
        "Ini adalah salah satu konsep terpenting yang terkait dengan list. Anda dapat memiliki list dengan sejuta item di dalamnya, dan dalam tiga baris kode Anda dapat menulis kalimat untuk masing-masing juta item tersebut. Jika Anda ingin memahami daftar, dan menjadi programmer yang kompeten, pastikan Anda meluangkan waktu untuk memahami bagian ini.\n",
        "\n",
        "Kami menggunakan loop untuk mengakses semua elemen dalam daftar. Loop adalah blok kode yang berulang sampai kehabisan item untuk dikerjakan, atau sampai kondisi tertentu terpenuhi. Dalam hal ini, loop kami akan berjalan sekali untuk setiap item dalam daftar kami. Dengan daftar yang panjangnya tiga item, loop kami akan berjalan tiga kali."
      ]
    },
    {
      "cell_type": "code",
      "metadata": {
        "id": "gSagwVtd-H_-",
        "colab": {
          "base_uri": "https://localhost:8080/",
          "height": 84
        },
        "outputId": "2ee681c7-00e1-447b-8220-c309c003fa3f"
      },
      "source": [
        "dogs = ['border collie', 'australian cattle dog', 'labrador retriever', 'X']\n",
        "\n",
        "for dog in dogs:\n",
        "    print(dog)"
      ],
      "execution_count": null,
      "outputs": [
        {
          "output_type": "stream",
          "text": [
            "border collie\n",
            "australian cattle dog\n",
            "labrador retriever\n",
            "X\n"
          ],
          "name": "stdout"
        }
      ]
    },
    {
      "cell_type": "markdown",
      "metadata": {
        "id": "lpjUkk_0-gx-"
      },
      "source": [
        "Kami telah melihat cara membuat list, jadi kami benar-benar hanya mencoba memahami cara kerja dua baris terakhir. Dua baris terakhir ini membentuk satu lingkaran, dan bahasa di sini dapat membantu kita melihat apa yang terjadi:\n",
        "\n",
        "    for dog in dogs:\n",
        "\n",
        "- Kata kunci \"for\" memberi tahu Python untuk bersiap menggunakan loop.\n",
        "- Variabel \"dog\", tanpa \"s\" di atasnya, adalah variabel pengganti sementara. Ini adalah variabel yang Python akan menempatkan setiap item dalam daftar, satu per satu.\n",
        "- Pertama kali melalui loop, nilai \"dog\" akan menjadi 'border collie'.\n",
        "- Kedua kalinya melalui loop, nilai \"dog\" akan menjadi 'dog ternak Australia'.\n",
        "- Ketiga kalinya melalui, \"dog\" akan menjadi 'labrador retriever'.\n",
        "- Setelah ini, tidak ada lagi item dalam daftar, dan loop akan berakhir."
      ]
    },
    {
      "cell_type": "markdown",
      "metadata": {
        "id": "yBKHY9pw-mp8"
      },
      "source": [
        "### Di dalam dan di luar loop\n",
        "\n",
        "Python menggunakan indentasi untuk memutuskan apa yang ada di dalam loop dan apa yang ada di luar loop. Kode yang ada di dalam loop akan dijalankan untuk setiap item dalam list. Kode yang tidak bertekuk, yang muncul setelah loop, akan dijalankan sekali seperti kode biasa."
      ]
    },
    {
      "cell_type": "code",
      "metadata": {
        "id": "hBd5r3HM-bbY",
        "colab": {
          "base_uri": "https://localhost:8080/",
          "height": 201
        },
        "outputId": "b20a1e2b-5132-4a96-e8f9-21d4b74e5cc0"
      },
      "source": [
        "dogs = ['border collie', 'australian cattle dog', 'labrador retriever']\n",
        "\n",
        "for dog in dogs:\n",
        "    print('I like ' + dog + 's.')\n",
        "    print('No, I really really like ' + dog +'s!\\n')\n",
        "    \n",
        "print(\"\\nThat's just how I feel about dogs.\")"
      ],
      "execution_count": null,
      "outputs": [
        {
          "output_type": "stream",
          "text": [
            "I like border collies.\n",
            "No, I really really like border collies!\n",
            "\n",
            "I like australian cattle dogs.\n",
            "No, I really really like australian cattle dogs!\n",
            "\n",
            "I like labrador retrievers.\n",
            "No, I really really like labrador retrievers!\n",
            "\n",
            "\n",
            "That's just how I feel about dogs.\n"
          ],
          "name": "stdout"
        }
      ]
    },
    {
      "cell_type": "markdown",
      "metadata": {
        "id": "aYAx65ht-xMc"
      },
      "source": [
        "### Kesalahan perulangan yang umum\n",
        "Satu kesalahan perulangan umum terjadi ketika alih-alih menggunakan variabel tunggal * anjing * di dalam loop, kami tidak sengaja menggunakan variabel yang menyimpan seluruh daftar:"
      ]
    },
    {
      "cell_type": "markdown",
      "metadata": {
        "id": "nATRi_rKB1wJ"
      },
      "source": [
        "dogs itu list, dog elemen di dogs"
      ]
    },
    {
      "cell_type": "markdown",
      "metadata": {
        "id": "PzzGns1LCBwd"
      },
      "source": [
        "for dog in dogs itu kl mtk mirip utk setiap dog elemen dogs"
      ]
    },
    {
      "cell_type": "code",
      "metadata": {
        "id": "lzniaMP5-o1C",
        "colab": {
          "base_uri": "https://localhost:8080/",
          "height": 67
        },
        "outputId": "3ae095a5-f419-4e6f-907f-9f07edab8a60"
      },
      "source": [
        "\n",
        "dogs = ['border collie', 'australian cattle dog', 'labrador retriever']\n",
        "\n",
        "for dog in dogs:\n",
        "    print(dogs)"
      ],
      "execution_count": null,
      "outputs": [
        {
          "output_type": "stream",
          "text": [
            "['border collie', 'australian cattle dog', 'labrador retriever']\n",
            "['border collie', 'australian cattle dog', 'labrador retriever']\n",
            "['border collie', 'australian cattle dog', 'labrador retriever']\n"
          ],
          "name": "stdout"
        }
      ]
    },
    {
      "cell_type": "markdown",
      "metadata": {
        "id": "ZvcGav9O-6Il"
      },
      "source": [
        "Dalam contoh ini, ingin mencetak setiap dog dalam list, kami mencetak seluruh list setiap kali kami melewati loop. Python menempatkan setiap item dalam list ke dalam variabel *dog*, tetapi kami tidak pernah menggunakan variabel itu. Terkadang Anda hanya akan mendapatkan kesalahan jika Anda mencoba melakukan ini:"
      ]
    },
    {
      "cell_type": "code",
      "metadata": {
        "id": "a315m8Ro-zps",
        "colab": {
          "base_uri": "https://localhost:8080/",
          "height": 196
        },
        "outputId": "a0ccd98a-66c8-4dc9-d595-2a7fafb4f757"
      },
      "source": [
        "dogs = ['border collie', 'australian cattle dog', 'labrador retriever']\n",
        "\n",
        "for dog in dogs:\n",
        "    print('I like ' + dogs + 's.')"
      ],
      "execution_count": null,
      "outputs": [
        {
          "output_type": "error",
          "ename": "TypeError",
          "evalue": "ignored",
          "traceback": [
            "\u001b[0;31m---------------------------------------------------------------------------\u001b[0m",
            "\u001b[0;31mTypeError\u001b[0m                                 Traceback (most recent call last)",
            "\u001b[0;32m<ipython-input-12-751b2ca2182a>\u001b[0m in \u001b[0;36m<module>\u001b[0;34m()\u001b[0m\n\u001b[1;32m      2\u001b[0m \u001b[0;34m\u001b[0m\u001b[0m\n\u001b[1;32m      3\u001b[0m \u001b[0;32mfor\u001b[0m \u001b[0mdog\u001b[0m \u001b[0;32min\u001b[0m \u001b[0mdogs\u001b[0m\u001b[0;34m:\u001b[0m\u001b[0;34m\u001b[0m\u001b[0;34m\u001b[0m\u001b[0m\n\u001b[0;32m----> 4\u001b[0;31m     \u001b[0mprint\u001b[0m\u001b[0;34m(\u001b[0m\u001b[0;34m'I like '\u001b[0m \u001b[0;34m+\u001b[0m \u001b[0mdogs\u001b[0m \u001b[0;34m+\u001b[0m \u001b[0;34m's.'\u001b[0m\u001b[0;34m)\u001b[0m\u001b[0;34m\u001b[0m\u001b[0;34m\u001b[0m\u001b[0m\n\u001b[0m",
            "\u001b[0;31mTypeError\u001b[0m: must be str, not list"
          ]
        }
      ]
    },
    {
      "cell_type": "markdown",
      "metadata": {
        "id": "Ezq_Pbxc_7-B"
      },
      "source": [
        "<a name='modifying elements'> </an> Memodifikasi elemen dalam list\n",
        "---\n",
        "Anda dapat mengubah nilai elemen apa pun dalam daftar jika Anda tahu posisi item itu."
      ]
    },
    {
      "cell_type": "code",
      "metadata": {
        "id": "E6DAqSny-2mc",
        "colab": {
          "base_uri": "https://localhost:8080/",
          "height": 33
        },
        "outputId": "999470e8-dcab-4bb5-97d0-1ed545427fa8"
      },
      "source": [
        "dogs = ['border collie', 'australian cattle dog', 'labrador retriever']\n",
        "\n",
        "dogs[0] = 'australian shepherd'\n",
        "print(dogs)"
      ],
      "execution_count": null,
      "outputs": [
        {
          "output_type": "stream",
          "text": [
            "['australian shepherd', 'australian cattle dog', 'labrador retriever']\n"
          ],
          "name": "stdout"
        }
      ]
    },
    {
      "cell_type": "markdown",
      "metadata": {
        "id": "kpDZkUV1AiAB"
      },
      "source": [
        "<a name='finding_elements'> </a> Menemukan elemen dalam list\n",
        "---\n",
        "Jika Anda ingin mengetahui posisi elemen dalam list, Anda dapat menggunakan fungsi index ()."
      ]
    },
    {
      "cell_type": "code",
      "metadata": {
        "id": "RxtC-LePAAEW",
        "colab": {
          "base_uri": "https://localhost:8080/",
          "height": 33
        },
        "outputId": "6861b06a-bfcf-4828-c8ae-b145d7c4f7cd"
      },
      "source": [
        "dogs = ['border collie', 'australian cattle dog', 'labrador retriever']\n",
        "\n",
        "print(dogs.index('australian cattle dog'))"
      ],
      "execution_count": null,
      "outputs": [
        {
          "output_type": "stream",
          "text": [
            "1\n"
          ],
          "name": "stdout"
        }
      ]
    },
    {
      "cell_type": "code",
      "metadata": {
        "id": "zVdrQzU2Amdb",
        "colab": {
          "base_uri": "https://localhost:8080/",
          "height": 196
        },
        "outputId": "0ba89502-a4a0-4aef-f932-89a39a07cdee"
      },
      "source": [
        "dogs = ['border collie', 'australian cattle dog', 'labrador retriever']\n",
        "\n",
        "print(dogs.index('poodle'))"
      ],
      "execution_count": null,
      "outputs": [
        {
          "output_type": "error",
          "ename": "ValueError",
          "evalue": "ignored",
          "traceback": [
            "\u001b[0;31m---------------------------------------------------------------------------\u001b[0m",
            "\u001b[0;31mValueError\u001b[0m                                Traceback (most recent call last)",
            "\u001b[0;32m<ipython-input-15-e74345f70a61>\u001b[0m in \u001b[0;36m<module>\u001b[0;34m()\u001b[0m\n\u001b[1;32m      1\u001b[0m \u001b[0mdogs\u001b[0m \u001b[0;34m=\u001b[0m \u001b[0;34m[\u001b[0m\u001b[0;34m'border collie'\u001b[0m\u001b[0;34m,\u001b[0m \u001b[0;34m'australian cattle dog'\u001b[0m\u001b[0;34m,\u001b[0m \u001b[0;34m'labrador retriever'\u001b[0m\u001b[0;34m]\u001b[0m\u001b[0;34m\u001b[0m\u001b[0;34m\u001b[0m\u001b[0m\n\u001b[1;32m      2\u001b[0m \u001b[0;34m\u001b[0m\u001b[0m\n\u001b[0;32m----> 3\u001b[0;31m \u001b[0mprint\u001b[0m\u001b[0;34m(\u001b[0m\u001b[0mdogs\u001b[0m\u001b[0;34m.\u001b[0m\u001b[0mindex\u001b[0m\u001b[0;34m(\u001b[0m\u001b[0;34m'poodle'\u001b[0m\u001b[0;34m)\u001b[0m\u001b[0;34m)\u001b[0m\u001b[0;34m\u001b[0m\u001b[0;34m\u001b[0m\u001b[0m\n\u001b[0m",
            "\u001b[0;31mValueError\u001b[0m: 'poodle' is not in list"
          ]
        }
      ]
    },
    {
      "cell_type": "code",
      "metadata": {
        "id": "PSuGzT2PArVK",
        "colab": {
          "base_uri": "https://localhost:8080/",
          "height": 50
        },
        "outputId": "20041847-24c5-49cd-f901-2a89c3371bf8"
      },
      "source": [
        "dogs = ['border collie', 'australian cattle dog', 'labrador retriever']\n",
        "\n",
        "print('australian cattle dog' in dogs)\n",
        "print('poodle' in dogs)"
      ],
      "execution_count": null,
      "outputs": [
        {
          "output_type": "stream",
          "text": [
            "True\n",
            "False\n"
          ],
          "name": "stdout"
        }
      ]
    },
    {
      "cell_type": "markdown",
      "metadata": {
        "id": "BoG5VrRwCWu6"
      },
      "source": [
        "Menambahkan item ke list\n",
        "---\n",
        "### Menambahkan item ke akhir list\n",
        "Kami dapat menambahkan item ke daftar menggunakan metode append (). Metode ini menambahkan item baru ke akhir daftar."
      ]
    },
    {
      "cell_type": "code",
      "metadata": {
        "id": "Br95KonxAynu"
      },
      "source": [
        "dogs = ['border collie', 'australian cattle dog', 'labrador retriever']\n",
        "dogs.append('poodle')"
      ],
      "execution_count": null,
      "outputs": []
    },
    {
      "cell_type": "code",
      "metadata": {
        "id": "qnftwr2iCbMS",
        "colab": {
          "base_uri": "https://localhost:8080/",
          "height": 33
        },
        "outputId": "0bed68fa-d266-42a2-e2d3-2d36baf4ba89"
      },
      "source": [
        "dogs"
      ],
      "execution_count": null,
      "outputs": [
        {
          "output_type": "execute_result",
          "data": {
            "text/plain": [
              "['border collie', 'australian cattle dog', 'labrador retriever', 'poodle']"
            ]
          },
          "metadata": {
            "tags": []
          },
          "execution_count": 18
        }
      ]
    },
    {
      "cell_type": "markdown",
      "metadata": {
        "id": "viY-Mo2nzrIt"
      },
      "source": [
        "### Memasukkan item ke dalam list\n",
        "Kami juga dapat menyisipkan item di mana saja kami inginkan dalam list, menggunakan fungsi **insert()**. Kami menentukan posisi yang kami inginkan item, dan segala sesuatu dari saat itu bergeser satu posisi ke kanan. Dengan kata lain, indeks setiap item setelah item baru bertambah satu."
      ]
    },
    {
      "cell_type": "code",
      "metadata": {
        "id": "rJPuofgUCcT9",
        "colab": {
          "base_uri": "https://localhost:8080/",
          "height": 33
        },
        "outputId": "51e052bd-ecea-474b-d6d5-5e0d3434cef6"
      },
      "source": [
        "dogs = ['border collie', 'australian cattle dog', 'labrador retriever']\n",
        "dogs.insert(1, 'poodle')\n",
        "\n",
        "print(dogs)"
      ],
      "execution_count": null,
      "outputs": [
        {
          "output_type": "stream",
          "text": [
            "['border collie', 'poodle', 'australian cattle dog', 'labrador retriever']\n"
          ],
          "name": "stdout"
        }
      ]
    },
    {
      "cell_type": "code",
      "metadata": {
        "id": "LEB6oBZIz4_m"
      },
      "source": [
        "dogs.insert(0, 'pomerania')"
      ],
      "execution_count": null,
      "outputs": []
    },
    {
      "cell_type": "code",
      "metadata": {
        "id": "lSTkN35K0L2T",
        "colab": {
          "base_uri": "https://localhost:8080/",
          "height": 100
        },
        "outputId": "8a110313-7270-4931-a414-bec476f2989e"
      },
      "source": [
        "dogs"
      ],
      "execution_count": null,
      "outputs": [
        {
          "output_type": "execute_result",
          "data": {
            "text/plain": [
              "['pomerania',\n",
              " 'border collie',\n",
              " 'poodle',\n",
              " 'australian cattle dog',\n",
              " 'labrador retriever']"
            ]
          },
          "metadata": {
            "tags": []
          },
          "execution_count": 3
        }
      ]
    },
    {
      "cell_type": "markdown",
      "metadata": {
        "id": "mVLrq88v0TQb"
      },
      "source": [
        "<a name='empty_list'> </a> Membuat list kosong\n",
        "---\n",
        "Sekarang kita tahu cara menambahkan item ke list setelah dibuat, kita dapat menggunakan list lebih dinamis. Kami tidak lagi terjebak mendefinisikan seluruh list kami sekaligus.\n",
        "\n",
        "Pendekatan umum dengan list adalah menentukan list kosong, dan kemudian biarkan program Anda menambahkan item ke list sebagaimana diperlukan. Pendekatan ini berfungsi, misalnya, ketika mulai membangun situs web interaktif. list pengguna Anda mungkin mulai kosong, dan kemudian ketika orang mendaftar untuk situs itu akan tumbuh. Ini adalah pendekatan yang disederhanakan untuk bagaimana situs web sebenarnya bekerja, tetapi idenya realistis.\n",
        "\n",
        "Berikut adalah contoh singkat tentang cara memulai dengan list kosong, mulai mengisinya, dan bekerja dengan item dalam list. Satu-satunya hal baru di sini adalah cara kita mendefinisikan list kosong, yang hanya berupa tanda kurung kotak kosong."
      ]
    },
    {
      "cell_type": "code",
      "metadata": {
        "id": "6NoB0q-F0NT4",
        "colab": {
          "base_uri": "https://localhost:8080/",
          "height": 67
        },
        "outputId": "6339cf07-c7b4-4162-adf0-69d5dd32c09f"
      },
      "source": [
        "# Create an empty list to hold our users.\n",
        "usernames = []\n",
        "\n",
        "# Add some users.\n",
        "usernames.append('nadya')\n",
        "usernames.append('nalendra')\n",
        "usernames.append('husna')\n",
        "\n",
        "# Greet all of our users.\n",
        "for username in usernames:\n",
        "    print(\"Welcome, \" + username.title() + '!')"
      ],
      "execution_count": null,
      "outputs": [
        {
          "output_type": "stream",
          "text": [
            "Welcome, Nadya!\n",
            "Welcome, Nalendra!\n",
            "Welcome, Husna!\n"
          ],
          "name": "stdout"
        }
      ]
    },
    {
      "cell_type": "code",
      "metadata": {
        "id": "SNy33qi30rcJ",
        "colab": {
          "base_uri": "https://localhost:8080/",
          "height": 33
        },
        "outputId": "7e821ca9-44e3-4830-b6df-8464e29f8c76"
      },
      "source": [
        "usernames"
      ],
      "execution_count": null,
      "outputs": [
        {
          "output_type": "execute_result",
          "data": {
            "text/plain": [
              "['nadya', 'nalendra', 'husna']"
            ]
          },
          "metadata": {
            "tags": []
          },
          "execution_count": 5
        }
      ]
    },
    {
      "cell_type": "code",
      "metadata": {
        "id": "-yf-nxQG0smA",
        "colab": {
          "base_uri": "https://localhost:8080/",
          "height": 67
        },
        "outputId": "debcbecc-a9f8-40ba-f608-0a60b38a2fa3"
      },
      "source": [
        "# Create an empty list to hold our users.\n",
        "makanan = []\n",
        "\n",
        "# Add some users.\n",
        "makanan.append('bakso')\n",
        "makanan.append('ayam')\n",
        "makanan.append('cendol')\n",
        "\n",
        "# Greet all of our users.\n",
        "for makan in makanan:\n",
        "    print(\"Mau makan, \" + makan.title() + '!')"
      ],
      "execution_count": null,
      "outputs": [
        {
          "output_type": "stream",
          "text": [
            "Mau makan, Bakso!\n",
            "Mau makan, Ayam!\n",
            "Mau makan, Cendol!\n"
          ],
          "name": "stdout"
        }
      ]
    },
    {
      "cell_type": "markdown",
      "metadata": {
        "id": "mnxutitx1W59"
      },
      "source": [
        "Jika kami tidak mengubah urutan dalam daftar kami, kami dapat menggunakan daftar untuk mencari tahu siapa pengguna terlama dan terbaru kami."
      ]
    },
    {
      "cell_type": "code",
      "metadata": {
        "id": "CZ88ZB-707va",
        "colab": {
          "base_uri": "https://localhost:8080/",
          "height": 117
        },
        "outputId": "a40a593b-29f0-45de-ad89-12eca6bf56be"
      },
      "source": [
        "# Create an empty list to hold our users.\n",
        "usernames = []\n",
        "\n",
        "# Add some users.\n",
        "usernames.append('nadya')\n",
        "usernames.append('nalendra')\n",
        "usernames.append('husna')\n",
        "\n",
        "# Greet all of our users.\n",
        "for username in usernames:\n",
        "    print(\"Welcome, \" + username.title() + '!')\n",
        "\n",
        "# Recognize our first user, and welcome our newest user.\n",
        "print(\"\\nThank you for being our very first user, \" + usernames[0].title() + '!')\n",
        "print(\"And a warm welcome to our newest user, \" + usernames[-1].title() + '!')"
      ],
      "execution_count": null,
      "outputs": [
        {
          "output_type": "stream",
          "text": [
            "Welcome, Nadya!\n",
            "Welcome, Nalendra!\n",
            "Welcome, Husna!\n",
            "\n",
            "Thank you for being our very first user, Nadya!\n",
            "And a warm welcome to our newest user, Husna!\n"
          ],
          "name": "stdout"
        }
      ]
    },
    {
      "cell_type": "markdown",
      "metadata": {
        "id": "fr340pHP1tqt"
      },
      "source": [
        "<a name='sorting_list'> </a> Menyortir List\n",
        "---\n",
        "Kami dapat mengurutkan daftar berdasarkan abjad, dalam urutan apa pun."
      ]
    },
    {
      "cell_type": "code",
      "metadata": {
        "id": "mN02ScFu1i2s",
        "colab": {
          "base_uri": "https://localhost:8080/",
          "height": 168
        },
        "outputId": "66b0ebe9-2919-4d98-a03b-f7d7512259b6"
      },
      "source": [
        "students = ['nadya', 'nalendra', 'husna']\n",
        "\n",
        "# Put students in alphabetical order.\n",
        "students.sort()\n",
        "\n",
        "# Display the list in its current order.\n",
        "print(\"Siswa kami saat ini dalam urutan abjad.\")\n",
        "for student in students:\n",
        "    print(student.title())\n",
        "\n",
        "#Put students in reverse alphabetical order.\n",
        "students.sort(reverse=True)\n",
        "\n",
        "# Display the list in its current order.\n",
        "print(\"\\nSiswa kami sekarang dalam urutan abjad terbalik.\")\n",
        "for student in students:\n",
        "    print(student.title())"
      ],
      "execution_count": null,
      "outputs": [
        {
          "output_type": "stream",
          "text": [
            "Siswa kami saat ini dalam urutan abjad.\n",
            "Husna\n",
            "Nadya\n",
            "Nalendra\n",
            "\n",
            "Siswa kami sekarang dalam urutan abjad terbalik.\n",
            "Nalendra\n",
            "Nadya\n",
            "Husna\n"
          ],
          "name": "stdout"
        }
      ]
    },
    {
      "cell_type": "markdown",
      "metadata": {
        "id": "CFKr_MPJ3_5E"
      },
      "source": [
        "### *sorted()* vs. *sort()*\n",
        "Setiap kali Anda mempertimbangkan untuk mengurutkan daftar, perlu diingat bahwa Anda tidak dapat memulihkan urutan asli. Jika Anda ingin menampilkan daftar dalam urutan yang diurutkan, tetapi mempertahankan urutan yang asli, Anda dapat menggunakan fungsi *sorted()*. Fungsi *sorted()* juga menerima argumen opsional *reverse=True*."
      ]
    },
    {
      "cell_type": "code",
      "metadata": {
        "id": "r3bw7JfC15mN",
        "colab": {
          "base_uri": "https://localhost:8080/",
          "height": 252
        },
        "outputId": "1ba29f02-e938-4937-fe82-cc681771811a"
      },
      "source": [
        "students = ['bernice', 'aaron', 'cody']\n",
        "\n",
        "# Display students in alphabetical order, but keep the original order.\n",
        "print(\"Berikut adalah daftar dalam urutan abjad:\")\n",
        "for student in sorted(students):\n",
        "    print(student.title())\n",
        "\n",
        "# Display students in reverse alphabetical order, but keep the original order.\n",
        "print(\"\\nBerikut adalah daftar dalam urutan abjad terbalik:\")\n",
        "for student in sorted(students, reverse=True):\n",
        "    print(student.title())\n",
        "\n",
        "print(\"\\nIni daftar dalam urutan aslinya:\")\n",
        "# Show that the list is still in its original order.\n",
        "for student in students:\n",
        "    print(student.title())"
      ],
      "execution_count": null,
      "outputs": [
        {
          "output_type": "stream",
          "text": [
            "Berikut adalah daftar dalam urutan abjad:\n",
            "Aaron\n",
            "Bernice\n",
            "Cody\n",
            "\n",
            "Berikut adalah daftar dalam urutan abjad terbalik:\n",
            "Cody\n",
            "Bernice\n",
            "Aaron\n",
            "\n",
            "Ini daftar dalam urutan aslinya:\n",
            "Bernice\n",
            "Aaron\n",
            "Cody\n"
          ],
          "name": "stdout"
        }
      ]
    },
    {
      "cell_type": "code",
      "metadata": {
        "id": "inKI5Az449h9",
        "colab": {
          "base_uri": "https://localhost:8080/",
          "height": 33
        },
        "outputId": "b26214ff-52f1-40f0-8c56-a4f51ca81353"
      },
      "source": [
        "students = ['nadya', 'nalendra', 'husna']\n",
        "students.reverse()\n",
        "\n",
        "print(students)"
      ],
      "execution_count": null,
      "outputs": [
        {
          "output_type": "stream",
          "text": [
            "['husna', 'nalendra', 'nadya']\n"
          ],
          "name": "stdout"
        }
      ]
    },
    {
      "cell_type": "code",
      "metadata": {
        "id": "TgAJksym5KMy",
        "colab": {
          "base_uri": "https://localhost:8080/",
          "height": 50
        },
        "outputId": "26cdfeb0-8266-421e-cebd-0dc8456d6037"
      },
      "source": [
        "numbers = [1, 3, 4, 2]\n",
        "\n",
        "# sort() menempatkan angka dalam urutan yang meningkat.\n",
        "numbers.sort()\n",
        "print(numbers)\n",
        "\n",
        "# sort(reverse=True) menempatkan angka dalam urutan menurun.\n",
        "numbers.sort(reverse=True)\n",
        "print(numbers)\n"
      ],
      "execution_count": null,
      "outputs": [
        {
          "output_type": "stream",
          "text": [
            "[1, 2, 3, 4]\n",
            "[4, 3, 2, 1]\n"
          ],
          "name": "stdout"
        }
      ]
    },
    {
      "cell_type": "code",
      "metadata": {
        "id": "y-97YFZH536S"
      },
      "source": [
        "students.sort()"
      ],
      "execution_count": null,
      "outputs": []
    },
    {
      "cell_type": "code",
      "metadata": {
        "id": "tG6soJ6H6AmE",
        "colab": {
          "base_uri": "https://localhost:8080/",
          "height": 33
        },
        "outputId": "1bdc3a16-dbb8-4e33-c2ff-bc1dc5b6547c"
      },
      "source": [
        "students"
      ],
      "execution_count": null,
      "outputs": [
        {
          "output_type": "execute_result",
          "data": {
            "text/plain": [
              "['husna', 'nadya', 'nalendra']"
            ]
          },
          "metadata": {
            "tags": []
          },
          "execution_count": 19
        }
      ]
    },
    {
      "cell_type": "markdown",
      "metadata": {
        "id": "uUVD8KZl6Yho"
      },
      "source": [
        "<a name='length'> </a> Menemukan panjang list\n",
        "---\n",
        "Anda dapat menemukan panjang list menggunakan fungsi *len()*."
      ]
    },
    {
      "cell_type": "code",
      "metadata": {
        "id": "gBNuYK036Cj8",
        "colab": {
          "base_uri": "https://localhost:8080/",
          "height": 33
        },
        "outputId": "d4b74ae8-2d1f-4f0a-c3c1-49223957be6b"
      },
      "source": [
        "usernames = ['bernice', 'cody', 'aaron']\n",
        "user_count = len(usernames)\n",
        "\n",
        "print(user_count)"
      ],
      "execution_count": null,
      "outputs": [
        {
          "output_type": "stream",
          "text": [
            "3\n"
          ],
          "name": "stdout"
        }
      ]
    },
    {
      "cell_type": "markdown",
      "metadata": {
        "id": "IRacuzqr7c4C"
      },
      "source": [
        "Pada catatan teknis, fungsi *len()* mengembalikan bilangan bulat, yang tidak dapat dicetak langsung dengan string. Kami menggunakan fungsi *str()* untuk mengubah integer menjadi string sehingga ia mencetak dengan baik:"
      ]
    },
    {
      "cell_type": "code",
      "metadata": {
        "id": "I2u96j3f6hXP",
        "colab": {
          "base_uri": "https://localhost:8080/",
          "height": 196
        },
        "outputId": "98206d66-3b56-4d4c-aeff-e9d46f0143f0"
      },
      "source": [
        "usernames = ['husna', 'nalendra', 'nadya']\n",
        "user_count = len(usernames)\n",
        "\n",
        "print(\"This will cause an error: \" + user_count)"
      ],
      "execution_count": null,
      "outputs": [
        {
          "output_type": "error",
          "ename": "TypeError",
          "evalue": "ignored",
          "traceback": [
            "\u001b[0;31m---------------------------------------------------------------------------\u001b[0m",
            "\u001b[0;31mTypeError\u001b[0m                                 Traceback (most recent call last)",
            "\u001b[0;32m<ipython-input-24-28d4b0525fd3>\u001b[0m in \u001b[0;36m<module>\u001b[0;34m()\u001b[0m\n\u001b[1;32m      2\u001b[0m \u001b[0muser_count\u001b[0m \u001b[0;34m=\u001b[0m \u001b[0mlen\u001b[0m\u001b[0;34m(\u001b[0m\u001b[0musernames\u001b[0m\u001b[0;34m)\u001b[0m\u001b[0;34m\u001b[0m\u001b[0;34m\u001b[0m\u001b[0m\n\u001b[1;32m      3\u001b[0m \u001b[0;34m\u001b[0m\u001b[0m\n\u001b[0;32m----> 4\u001b[0;31m \u001b[0mprint\u001b[0m\u001b[0;34m(\u001b[0m\u001b[0;34m\"This will cause an error: \"\u001b[0m \u001b[0;34m+\u001b[0m \u001b[0muser_count\u001b[0m\u001b[0;34m)\u001b[0m\u001b[0;34m\u001b[0m\u001b[0;34m\u001b[0m\u001b[0m\n\u001b[0m",
            "\u001b[0;31mTypeError\u001b[0m: must be str, not int"
          ]
        }
      ]
    },
    {
      "cell_type": "code",
      "metadata": {
        "id": "Cdci4CZ962xo",
        "colab": {
          "base_uri": "https://localhost:8080/",
          "height": 33
        },
        "outputId": "0e7c2b29-776b-4996-8aec-cb23d0d03363"
      },
      "source": [
        "print(\"This will work: \" + str(user_count))"
      ],
      "execution_count": null,
      "outputs": [
        {
          "output_type": "stream",
          "text": [
            "This will work: 3\n"
          ],
          "name": "stdout"
        }
      ]
    },
    {
      "cell_type": "markdown",
      "metadata": {
        "id": "HZ2REHsn9umj"
      },
      "source": [
        "<a name='removing_by_position'> </a> Menghapus item berdasarkan posisi\n",
        "---\n",
        "Jika Anda mengetahui posisi suatu item dalam list, Anda dapat menghapus list itu menggunakan perintah *del*. Untuk menggunakan pendekatan ini, menggunakan perintah *del* dan nama list Anda, dengan indeks item yang ingin kita pindahkan dalam tanda kurung:"
      ]
    },
    {
      "cell_type": "code",
      "metadata": {
        "id": "gYu59Pre7qm6",
        "colab": {
          "base_uri": "https://localhost:8080/",
          "height": 33
        },
        "outputId": "2ad7d4c2-428c-4776-e3e4-0cdfac0d98ad"
      },
      "source": [
        "dogs = ['border collie', 'australian cattle dog', 'labrador retriever']\n",
        "# Remove the first dog from the list.\n",
        "del dogs[0]\n",
        "\n",
        "print(dogs)"
      ],
      "execution_count": null,
      "outputs": [
        {
          "output_type": "stream",
          "text": [
            "['australian cattle dog', 'labrador retriever']\n"
          ],
          "name": "stdout"
        }
      ]
    },
    {
      "cell_type": "markdown",
      "metadata": {
        "id": "BvoVcdE2-FE1"
      },
      "source": [
        "<a name='removing_by_value'> </a> Menghapus item berdasarkan nilai\n",
        "---\n",
        "Kita juga dapat menghapus item dari daftar jika kita tahu nilainya. Untuk melakukan ini, kami menggunakan fungsi *remove()*. Berikan nama daftar, diikuti dengan kata hapus dengan nilai item yang ingin Anda hapus dalam tanda kurung. Python memeriksa daftar kita, menemukan item pertama dengan nilai ini, dan menghapusnya."
      ]
    },
    {
      "cell_type": "code",
      "metadata": {
        "id": "eA3Z0Zsb9-7g",
        "colab": {
          "base_uri": "https://localhost:8080/",
          "height": 33
        },
        "outputId": "98fb0a36-d188-41a1-8de8-4d65ad635a85"
      },
      "source": [
        "dogs = ['border collie', 'australian cattle dog', 'labrador retriever']\n",
        "# Remove australian cattle dog from the list.\n",
        "dogs.remove('australian cattle dog')\n",
        "\n",
        "print(dogs)"
      ],
      "execution_count": null,
      "outputs": [
        {
          "output_type": "stream",
          "text": [
            "['border collie', 'labrador retriever']\n"
          ],
          "name": "stdout"
        }
      ]
    },
    {
      "cell_type": "markdown",
      "metadata": {
        "id": "ZeyD7Apq-jQO"
      },
      "source": [
        "gimana kalau ada dobel item didalam list? maka akan terhapus item pertama"
      ]
    },
    {
      "cell_type": "code",
      "metadata": {
        "id": "-C-IQ6rh-SJE",
        "colab": {
          "base_uri": "https://localhost:8080/",
          "height": 33
        },
        "outputId": "f283ee2f-1e9d-45ab-c7f1-96e19ef42356"
      },
      "source": [
        "letters = ['a', 'b', 'c', 'a', 'b', 'c']\n",
        "# Remove the letter a from the list.\n",
        "letters.remove('a')\n",
        "\n",
        "print(letters)"
      ],
      "execution_count": null,
      "outputs": [
        {
          "output_type": "stream",
          "text": [
            "['b', 'c', 'a', 'b', 'c']\n"
          ],
          "name": "stdout"
        }
      ]
    },
    {
      "cell_type": "markdown",
      "metadata": {
        "id": "LyDysO-6_Vzp"
      },
      "source": [
        "<a name='popping'> </a> Memunculkan item dari list\n",
        "---\n",
        "Ada konsep keren dalam pemrograman yang disebut \"popping\" item dari koleksi. Setiap bahasa pemrograman memiliki semacam struktur data yang mirip dengan list Python. Semua struktur ini dapat digunakan sebagai antrian, dan ada berbagai cara memproses item dalam antrian.\n",
        "\n",
        "Satu pendekatan sederhana adalah mulai dengan list kosong, dan kemudian tambahkan item ke list itu. Ketika Anda ingin bekerja dengan item dalam list, Anda selalu mengambil item terakhir dari list, melakukan sesuatu dengannya, dan kemudian menghapus item itu. Fungsi *pop()* membuatnya mudah. Itu menghapus item terakhir dari list, dan memberikannya kepada kami sehingga kami dapat bekerja dengannya."
      ]
    },
    {
      "cell_type": "code",
      "metadata": {
        "id": "hVRuiVKg-il5",
        "colab": {
          "base_uri": "https://localhost:8080/",
          "height": 50
        },
        "outputId": "c56bc166-0014-49a8-cf73-d6ccc518fe77"
      },
      "source": [
        "dogs = ['border collie', 'australian cattle dog', 'labrador retriever']\n",
        "last_dog = dogs.pop()\n",
        "\n",
        "print(last_dog)\n",
        "print(dogs)"
      ],
      "execution_count": null,
      "outputs": [
        {
          "output_type": "stream",
          "text": [
            "labrador retriever\n",
            "['border collie', 'australian cattle dog']\n"
          ],
          "name": "stdout"
        }
      ]
    },
    {
      "cell_type": "markdown",
      "metadata": {
        "id": "2udY36bl_vHD"
      },
      "source": [
        "Ini adalah contoh dari pendekatan first-in dan last-out. Item pertama dalam daftar akan menjadi item terakhir yang diproses jika kita terus menggunakan pendekatan ini. Kita akan melihat implementasi penuh dari pendekatan ini nanti, ketika kita belajar tentang *while* loop.\n",
        "\n",
        "kita benar-benar dapat mengeluarkan item yang kita inginkan dari daftar, dengan memberikan indeks dari item yang ingin kita pop. Jadi kita bisa melakukan pendekatan masuk pertama, keluar pertama dengan menampilkan iem pertama dalam daftar:"
      ]
    },
    {
      "cell_type": "code",
      "metadata": {
        "id": "Rm7GP4Ng_rM1",
        "colab": {
          "base_uri": "https://localhost:8080/",
          "height": 50
        },
        "outputId": "8d6292c8-ced7-4a16-e31b-819d00a2f5f4"
      },
      "source": [
        "dogs = ['border collie', 'australian cattle dog', 'labrador retriever']\n",
        "first_dog = dogs.pop(0)\n",
        "\n",
        "print(first_dog)\n",
        "print(dogs)"
      ],
      "execution_count": null,
      "outputs": [
        {
          "output_type": "stream",
          "text": [
            "border collie\n",
            "['australian cattle dog', 'labrador retriever']\n"
          ],
          "name": "stdout"
        }
      ]
    },
    {
      "cell_type": "markdown",
      "metadata": {
        "id": "jKvZcLQ0GByo"
      },
      "source": [
        "<a name='slicing'> </a> Slicing a List\n",
        "===\n",
        "Karena list adalah kumpulan item, kita harus bisa mendapatkan subset item tersebut. Misalnya, jika kita hanya ingin mendapatkan tiga item pertama dari list, kita harus dapat melakukannya dengan mudah. Hal yang sama harus berlaku untuk tiga item di tengah list, atau tiga item terakhir, atau x item mana saja dari list. Himpunan bagian dari list ini disebut *irisan*."
      ]
    },
    {
      "cell_type": "code",
      "metadata": {
        "id": "f0NlCAhQAOSX",
        "colab": {
          "base_uri": "https://localhost:8080/",
          "height": 67
        },
        "outputId": "de17fc14-4171-44db-bdc9-c05231d857cf"
      },
      "source": [
        "usernames = ['nadya', 'icin', 'nalen', 'sarah', 'husna']\n",
        "\n",
        "# Grab the first three users in the list.\n",
        "first_batch = usernames[0:3]\n",
        "\n",
        "for user in first_batch:\n",
        "    print(user.title())"
      ],
      "execution_count": null,
      "outputs": [
        {
          "output_type": "stream",
          "text": [
            "Nadya\n",
            "Icin\n",
            "Nalen\n"
          ],
          "name": "stdout"
        }
      ]
    },
    {
      "cell_type": "code",
      "metadata": {
        "id": "JSblBIyaGjXe",
        "colab": {
          "base_uri": "https://localhost:8080/",
          "height": 33
        },
        "outputId": "95f05be7-21b4-48cd-dc2f-a57a247b0d16"
      },
      "source": [
        "first_batch"
      ],
      "execution_count": null,
      "outputs": [
        {
          "output_type": "execute_result",
          "data": {
            "text/plain": [
              "['nadya', 'icin', 'nalen']"
            ]
          },
          "metadata": {
            "tags": []
          },
          "execution_count": 37
        }
      ]
    },
    {
      "cell_type": "code",
      "metadata": {
        "id": "HsqpZhg3GsDR",
        "colab": {
          "base_uri": "https://localhost:8080/",
          "height": 67
        },
        "outputId": "92c7facd-3060-4d56-8ff3-9deb7d4e52f3"
      },
      "source": [
        "# Grab the first three users in the list.\n",
        "first_batch = usernames[2:]\n",
        "\n",
        "for user in first_batch:\n",
        "    print(user.title())"
      ],
      "execution_count": null,
      "outputs": [
        {
          "output_type": "stream",
          "text": [
            "Nalen\n",
            "Sarah\n",
            "Husna\n"
          ],
          "name": "stdout"
        }
      ]
    },
    {
      "cell_type": "code",
      "metadata": {
        "id": "wg8dJb2uGx9p",
        "colab": {
          "base_uri": "https://localhost:8080/",
          "height": 67
        },
        "outputId": "7d1533ee-a971-4546-9a55-824d571be8a5"
      },
      "source": [
        "# Grab a batch from the middle of the list.\n",
        "middle_batch = usernames[1:4]\n",
        "\n",
        "for user in middle_batch:\n",
        "    print(user.title())"
      ],
      "execution_count": null,
      "outputs": [
        {
          "output_type": "stream",
          "text": [
            "Icin\n",
            "Nalen\n",
            "Sarah\n"
          ],
          "name": "stdout"
        }
      ]
    },
    {
      "cell_type": "markdown",
      "metadata": {
        "id": "NqTt-YIoHUZr"
      },
      "source": [
        "### <a name='copying'> </a> Copying a list\n",
        "Kita dapat menggunakan notasi slice untuk membuat Copying a list, dengan mengabaikan indeks awal dan akhir. Ini menyebabkan irisan terdiri dari segala sesuatu dari item pertama hingga terakhir, yang merupakan seluruh daftar."
      ]
    },
    {
      "cell_type": "code",
      "metadata": {
        "id": "bGgr-60EHJDx",
        "colab": {
          "base_uri": "https://localhost:8080/",
          "height": 151
        },
        "outputId": "f971dfbd-61cc-4a2b-f9dc-9cc6a47b0e01"
      },
      "source": [
        "usernames = ['nadya', 'icin', 'nalen', 'sarah', 'husna']\n",
        "\n",
        "# Make a copy of the list.\n",
        "copied_usernames = usernames[:]\n",
        "print(\"The full copied list:\\n\\t\", copied_usernames)\n",
        "\n",
        "# Remove the first two users from the copied list.\n",
        "del copied_usernames[0]\n",
        "del copied_usernames[0]\n",
        "print(\"\\nTwo users removed from copied list:\\n\\t\", copied_usernames)\n",
        "\n",
        "# The original list is unaffected.\n",
        "print(\"\\nThe original list:\\n\\t\", usernames)"
      ],
      "execution_count": null,
      "outputs": [
        {
          "output_type": "stream",
          "text": [
            "The full copied list:\n",
            "\t ['nadya', 'icin', 'nalen', 'sarah', 'husna']\n",
            "\n",
            "Two users removed from copied list:\n",
            "\t ['nalen', 'sarah', 'husna']\n",
            "\n",
            "The original list:\n",
            "\t ['nadya', 'icin', 'nalen', 'sarah', 'husna']\n"
          ],
          "name": "stdout"
        }
      ]
    },
    {
      "cell_type": "markdown",
      "metadata": {
        "id": "KiGTKWv8IDUF"
      },
      "source": [
        "<a name='numerical_lists'> </a> Daftar Numerik\n",
        "===\n",
        "Tidak ada yang istimewa tentang daftar angka, tetapi ada beberapa fungsi yang dapat Anda gunakan untuk membuat bekerja dengan daftar angka lebih efisien. Mari kita membuat daftar sepuluh angka pertama, dan mulai bekerja dengannya untuk melihat bagaimana kita dapat menggunakan angka dalam daftar."
      ]
    },
    {
      "cell_type": "code",
      "metadata": {
        "id": "tv2eV9oRH0P1",
        "colab": {
          "base_uri": "https://localhost:8080/",
          "height": 184
        },
        "outputId": "6cd19977-9827-47f8-e134-f01753040480"
      },
      "source": [
        "# Print out the first ten numbers.\n",
        "numbers = [1, 2, 3, 4, 5, 6, 7, 8, 9, 10]\n",
        "\n",
        "for number in numbers:\n",
        "    print(number)"
      ],
      "execution_count": null,
      "outputs": [
        {
          "output_type": "stream",
          "text": [
            "1\n",
            "2\n",
            "3\n",
            "4\n",
            "5\n",
            "6\n",
            "7\n",
            "8\n",
            "9\n",
            "10\n"
          ],
          "name": "stdout"
        }
      ]
    },
    {
      "cell_type": "markdown",
      "metadata": {
        "id": "AZU7NztDIPr9"
      },
      "source": [
        "### FUngsi range()"
      ]
    },
    {
      "cell_type": "code",
      "metadata": {
        "id": "hsjCKYsPIHr5",
        "colab": {
          "base_uri": "https://localhost:8080/",
          "height": 201
        },
        "outputId": "c1e3c11f-0358-4cb1-e694-8d02f47a9f36"
      },
      "source": [
        "# Print the first ten numbers.\n",
        "for number in range(1,11):\n",
        "    print(number)\n",
        "    \n",
        "number"
      ],
      "execution_count": null,
      "outputs": [
        {
          "output_type": "stream",
          "text": [
            "1\n",
            "2\n",
            "3\n",
            "4\n",
            "5\n",
            "6\n",
            "7\n",
            "8\n",
            "9\n",
            "10\n"
          ],
          "name": "stdout"
        },
        {
          "output_type": "execute_result",
          "data": {
            "text/plain": [
              "10"
            ]
          },
          "metadata": {
            "tags": []
          },
          "execution_count": 47
        }
      ]
    },
    {
      "cell_type": "markdown",
      "metadata": {
        "id": "5nhhap52IZpC"
      },
      "source": [
        "(0,21,2) ->\n",
        "0 sampai 21 pohon keputusan dengan\n",
        "kelipatan 2"
      ]
    },
    {
      "cell_type": "code",
      "metadata": {
        "id": "vmbDVX9eIWn2",
        "colab": {
          "base_uri": "https://localhost:8080/",
          "height": 201
        },
        "outputId": "c39ec935-ac71-47f3-def2-691d20987c60"
      },
      "source": [
        "# Print the first ten odd numbers.\n",
        "for number in range(0,21,2):\n",
        "    print(number)"
      ],
      "execution_count": null,
      "outputs": [
        {
          "output_type": "stream",
          "text": [
            "0\n",
            "2\n",
            "4\n",
            "6\n",
            "8\n",
            "10\n",
            "12\n",
            "14\n",
            "16\n",
            "18\n",
            "20\n"
          ],
          "name": "stdout"
        }
      ]
    },
    {
      "cell_type": "markdown",
      "metadata": {
        "id": "m2gZW7MhJVMr"
      },
      "source": [
        "Jika kita ingin menyimpan angka-angka ini dalam daftar, kita dapat menggunakan fungsi list(). Fungsi ini memiliki rentang, dan mengubahnya menjadi daftar:"
      ]
    },
    {
      "cell_type": "code",
      "metadata": {
        "id": "E0icUStII1vQ",
        "colab": {
          "base_uri": "https://localhost:8080/",
          "height": 33
        },
        "outputId": "f5c2267a-ed29-41b6-a06a-98e527488f1d"
      },
      "source": [
        "# Create a list of the first ten numbers.\n",
        "numbers = list(range(1,11,2))\n",
        "print(numbers)"
      ],
      "execution_count": null,
      "outputs": [
        {
          "output_type": "stream",
          "text": [
            "[1, 3, 5, 7, 9]\n"
          ],
          "name": "stdout"
        }
      ]
    },
    {
      "cell_type": "markdown",
      "metadata": {
        "id": "t4O9gJXaWsCQ"
      },
      "source": [
        "Fungsi min(), max(), dan sum()"
      ]
    },
    {
      "cell_type": "code",
      "metadata": {
        "id": "fvIxGDAzJyBm",
        "colab": {
          "base_uri": "https://localhost:8080/",
          "height": 67
        },
        "outputId": "c8664df7-3c71-4aa0-fde1-f557b406dc46"
      },
      "source": [
        "ages = [23, 16, 14, 28, 19, 11, 38]\n",
        "\n",
        "youngest = min(ages)\n",
        "oldest = max(ages)\n",
        "total_years = sum(ages)\n",
        "\n",
        "print(\"Our youngest reader is \" + str(youngest) + \" years old.\")\n",
        "print(\"Our oldest reader is \" + str(oldest) + \" years old.\")\n",
        "print(\"Together, we have \" + str(total_years) + \n",
        "      \" years worth of life experience.\")"
      ],
      "execution_count": null,
      "outputs": [
        {
          "output_type": "stream",
          "text": [
            "Our youngest reader is 11 years old.\n",
            "Our oldest reader is 38 years old.\n",
            "Together, we have 149 years worth of life experience.\n"
          ],
          "name": "stdout"
        }
      ]
    },
    {
      "cell_type": "markdown",
      "metadata": {
        "id": "7PI_yeAseNWh"
      },
      "source": [
        "### Slicing strings"
      ]
    },
    {
      "cell_type": "code",
      "metadata": {
        "id": "6U4vvCX-WytI",
        "colab": {
          "base_uri": "https://localhost:8080/",
          "height": 33
        },
        "outputId": "d048afb3-5695-4ebe-a8ad-31858f7ada5a"
      },
      "source": [
        "message = \"Hello World!\"\n",
        "first_char = message[0]\n",
        "last_char = message[-1]\n",
        "\n",
        "print(first_char, last_char)"
      ],
      "execution_count": null,
      "outputs": [
        {
          "output_type": "stream",
          "text": [
            "H !\n"
          ],
          "name": "stdout"
        }
      ]
    },
    {
      "cell_type": "code",
      "metadata": {
        "id": "-6NodI8YeAGj",
        "colab": {
          "base_uri": "https://localhost:8080/",
          "height": 33
        },
        "outputId": "f63f2a65-24fd-4629-e90f-790a6c401bc0"
      },
      "source": [
        "message = \"Hello World!\"\n",
        "first_three = message[:3]\n",
        "last_three = message[-3:]\n",
        "\n",
        "print(first_three, last_three)"
      ],
      "execution_count": null,
      "outputs": [
        {
          "output_type": "stream",
          "text": [
            "Hel ld!\n"
          ],
          "name": "stdout"
        }
      ]
    },
    {
      "cell_type": "markdown",
      "metadata": {
        "id": "rrAKyrPaeVDk"
      },
      "source": [
        "### Finding substrings"
      ]
    },
    {
      "cell_type": "code",
      "metadata": {
        "id": "5HnBRtELeHUu",
        "colab": {
          "base_uri": "https://localhost:8080/",
          "height": 33
        },
        "outputId": "7f4c0d1f-7fbf-4530-e4e4-3299adc4fbdb"
      },
      "source": [
        "message = \"I like cats and dogs.\"\n",
        "dog_present = 'dog' in message\n",
        "print(dog_present)"
      ],
      "execution_count": null,
      "outputs": [
        {
          "output_type": "stream",
          "text": [
            "True\n"
          ],
          "name": "stdout"
        }
      ]
    },
    {
      "cell_type": "markdown",
      "metadata": {
        "id": "Po7wgsh_e1NM"
      },
      "source": [
        "Jika kita ingin tahu di mana substring muncul dalam string, kita bisa menggunakan metode find(). Metode find() memberi tahu kita indeks tempat substring dimulai."
      ]
    },
    {
      "cell_type": "code",
      "metadata": {
        "id": "Gk73YbbreSjH",
        "colab": {
          "base_uri": "https://localhost:8080/",
          "height": 33
        },
        "outputId": "b529030f-ccd8-4afb-dfe2-b9f50ec63aff"
      },
      "source": [
        "message = \"I like cats and dogs.\"\n",
        "dog_index = message.find('cats')\n",
        "print(dog_index)"
      ],
      "execution_count": null,
      "outputs": [
        {
          "output_type": "stream",
          "text": [
            "7\n"
          ],
          "name": "stdout"
        }
      ]
    },
    {
      "cell_type": "markdown",
      "metadata": {
        "id": "VErgVzb1fEyU"
      },
      "source": [
        "### Replacing substrings"
      ]
    },
    {
      "cell_type": "markdown",
      "metadata": {
        "id": "QFfI95GAfMW7"
      },
      "source": [
        "ubah dog menjadi snake"
      ]
    },
    {
      "cell_type": "code",
      "metadata": {
        "id": "w2iT1wNdebMi",
        "colab": {
          "base_uri": "https://localhost:8080/",
          "height": 33
        },
        "outputId": "5dd7b189-0b7b-47f1-fee6-f3a69b66a248"
      },
      "source": [
        "message = \"I like cats and dogs, but I'd much rather own a dog.\"\n",
        "message = message.replace('dog', 'snake')\n",
        "print(message)"
      ],
      "execution_count": null,
      "outputs": [
        {
          "output_type": "stream",
          "text": [
            "I like cats and snakes, but I'd much rather own a snake.\n"
          ],
          "name": "stdout"
        }
      ]
    },
    {
      "cell_type": "markdown",
      "metadata": {
        "id": "_VHsAVE6fgpP"
      },
      "source": [
        "### Counting substrings"
      ]
    },
    {
      "cell_type": "code",
      "metadata": {
        "id": "YVK0toEsfILF",
        "colab": {
          "base_uri": "https://localhost:8080/",
          "height": 33
        },
        "outputId": "79ea7b4e-88af-45cc-a9f7-5f009b0fbcd4"
      },
      "source": [
        "message = \"I like cats and dogs, but I'd much rather own a dog.\"\n",
        "number_dogs = message.count('dog')\n",
        "print(number_dogs)"
      ],
      "execution_count": null,
      "outputs": [
        {
          "output_type": "stream",
          "text": [
            "2\n"
          ],
          "name": "stdout"
        }
      ]
    },
    {
      "cell_type": "code",
      "metadata": {
        "id": "W-Ykd5AZfRG7"
      },
      "source": [
        "dna = 'AGCTTTTCATTCTGACTGCAACGGGCAATATGTCTCTGTGTGGATTAAAAAAAGAGTGTCTGATAGCAGCAGCTTTTCATTCTGACTGCAACGGGCAATATGTCTCTGTGTGGATTAAAAAAAGAGTGTCTGATAGCAGC'"
      ],
      "execution_count": null,
      "outputs": []
    },
    {
      "cell_type": "code",
      "metadata": {
        "id": "GDxwOPuIft2d",
        "colab": {
          "base_uri": "https://localhost:8080/",
          "height": 33
        },
        "outputId": "3bf06266-6f24-4518-83ee-f503f07342cb"
      },
      "source": [
        "count_A = dna.count('A')\n",
        "print(count_A)"
      ],
      "execution_count": null,
      "outputs": [
        {
          "output_type": "stream",
          "text": [
            "40\n"
          ],
          "name": "stdout"
        }
      ]
    },
    {
      "cell_type": "code",
      "metadata": {
        "id": "B_7FNvWzf0T9",
        "colab": {
          "base_uri": "https://localhost:8080/",
          "height": 33
        },
        "outputId": "25a3c324-cff7-413a-8752-c0f38be5ef1a"
      },
      "source": [
        "count_C = dna.count('C')\n",
        "print(count_C)"
      ],
      "execution_count": null,
      "outputs": [
        {
          "output_type": "stream",
          "text": [
            "24\n"
          ],
          "name": "stdout"
        }
      ]
    },
    {
      "cell_type": "code",
      "metadata": {
        "id": "AfMqLK5hgAKc",
        "colab": {
          "base_uri": "https://localhost:8080/",
          "height": 33
        },
        "outputId": "c1ae7935-5a59-4f2f-cc9d-90f79b879c4e"
      },
      "source": [
        "dna_2 = \"GATGGAACTTGACTACGTAAATT\"\n",
        "dna_2 = dna_2.replace('T', 'U')\n",
        "print(dna_2)"
      ],
      "execution_count": null,
      "outputs": [
        {
          "output_type": "stream",
          "text": [
            "GAUGGAACUUGACUACGUAAAUU\n"
          ],
          "name": "stdout"
        }
      ]
    },
    {
      "cell_type": "markdown",
      "metadata": {
        "id": "qRrLCabBhL9H"
      },
      "source": [
        "# Tuple"
      ]
    },
    {
      "cell_type": "code",
      "metadata": {
        "id": "8jW-dmHYhCVV",
        "colab": {
          "base_uri": "https://localhost:8080/",
          "height": 33
        },
        "outputId": "e0f5c7a8-0205-447c-f96d-7d8c6b9a99f3"
      },
      "source": [
        "colors = ('red', 'green', 'blue')\n",
        "print(\"The first color is: \" + colors[0])"
      ],
      "execution_count": null,
      "outputs": [
        {
          "output_type": "stream",
          "text": [
            "The first color is: red\n"
          ],
          "name": "stdout"
        }
      ]
    },
    {
      "cell_type": "markdown",
      "metadata": {
        "id": "lted-V6Zhdpb"
      },
      "source": [
        "tupple tidak bisa  menambahkan objek lagi didalam tuple"
      ]
    },
    {
      "cell_type": "code",
      "metadata": {
        "id": "X4yOgmRBhRU4",
        "colab": {
          "base_uri": "https://localhost:8080/",
          "height": 180
        },
        "outputId": "5370c868-eebd-4307-8ad2-deb47779cbf5"
      },
      "source": [
        "colors = ('red', 'green', 'blue')\n",
        "colors.append('purple')"
      ],
      "execution_count": null,
      "outputs": [
        {
          "output_type": "error",
          "ename": "AttributeError",
          "evalue": "ignored",
          "traceback": [
            "\u001b[0;31m---------------------------------------------------------------------------\u001b[0m",
            "\u001b[0;31mAttributeError\u001b[0m                            Traceback (most recent call last)",
            "\u001b[0;32m<ipython-input-75-83aeaf8e9a14>\u001b[0m in \u001b[0;36m<module>\u001b[0;34m()\u001b[0m\n\u001b[1;32m      1\u001b[0m \u001b[0mcolors\u001b[0m \u001b[0;34m=\u001b[0m \u001b[0;34m(\u001b[0m\u001b[0;34m'red'\u001b[0m\u001b[0;34m,\u001b[0m \u001b[0;34m'green'\u001b[0m\u001b[0;34m,\u001b[0m \u001b[0;34m'blue'\u001b[0m\u001b[0;34m)\u001b[0m\u001b[0;34m\u001b[0m\u001b[0;34m\u001b[0m\u001b[0m\n\u001b[0;32m----> 2\u001b[0;31m \u001b[0mcolors\u001b[0m\u001b[0;34m.\u001b[0m\u001b[0mappend\u001b[0m\u001b[0;34m(\u001b[0m\u001b[0;34m'purple'\u001b[0m\u001b[0;34m)\u001b[0m\u001b[0;34m\u001b[0m\u001b[0;34m\u001b[0m\u001b[0m\n\u001b[0m",
            "\u001b[0;31mAttributeError\u001b[0m: 'tuple' object has no attribute 'append'"
          ]
        }
      ]
    },
    {
      "cell_type": "code",
      "metadata": {
        "id": "xkbWgD_zjYQ9",
        "colab": {
          "base_uri": "https://localhost:8080/",
          "height": 33
        },
        "outputId": "96a8a2f8-6540-47d8-925d-cb2f96c74930"
      },
      "source": [
        "animal = 'dog'\n",
        "print(\"I have a \" + animal + \".\")"
      ],
      "execution_count": null,
      "outputs": [
        {
          "output_type": "stream",
          "text": [
            "I have a dog.\n"
          ],
          "name": "stdout"
        }
      ]
    },
    {
      "cell_type": "code",
      "metadata": {
        "id": "6WrzxrM9jcj6",
        "colab": {
          "base_uri": "https://localhost:8080/",
          "height": 33
        },
        "outputId": "64f0ed61-2729-49af-9ed3-2b65d40f0a15"
      },
      "source": [
        "animals = ['dog', 'cat', 'bear']\n",
        "print(\"I have a %s, a %s, and a %s.\" % (animals[0], animals[1], animals[2]))"
      ],
      "execution_count": null,
      "outputs": [
        {
          "output_type": "stream",
          "text": [
            "I have a dog, a cat, and a bear.\n"
          ],
          "name": "stdout"
        }
      ]
    },
    {
      "cell_type": "markdown",
      "metadata": {
        "id": "9y92UKUijwZu"
      },
      "source": [
        "### Sets"
      ]
    },
    {
      "cell_type": "markdown",
      "metadata": {
        "id": "xpV5t4Mzj8RA"
      },
      "source": [
        "Penggunaan umum meliputi pengujian keanggotaan, menghapus duplikat dari urutan, dan menghitung operasi matematika seperti persimpangan, gabungan, perbedaan, dan perbedaan simetris."
      ]
    },
    {
      "cell_type": "code",
      "metadata": {
        "id": "tQYdUcVqkELq",
        "colab": {
          "base_uri": "https://localhost:8080/",
          "height": 33
        },
        "outputId": "2432d7b3-7f3d-4e6c-d417-4a3f865f6fef"
      },
      "source": [
        "shapes = ['circle','square','triangle','circle']\n",
        "set_of_shapes = set(shapes)\n",
        "set_of_shapes"
      ],
      "execution_count": null,
      "outputs": [
        {
          "output_type": "execute_result",
          "data": {
            "text/plain": [
              "{'circle', 'square', 'triangle'}"
            ]
          },
          "metadata": {
            "tags": []
          },
          "execution_count": 79
        }
      ]
    },
    {
      "cell_type": "code",
      "metadata": {
        "id": "QCCDoXUFjnMF",
        "colab": {
          "base_uri": "https://localhost:8080/",
          "height": 67
        },
        "outputId": "f6bde205-747e-421e-a537-be859868fc3a"
      },
      "source": [
        "shapes = {'circle','square','triangle','circle'}\n",
        "for shape in set_of_shapes:\n",
        "    print(shape)"
      ],
      "execution_count": null,
      "outputs": [
        {
          "output_type": "stream",
          "text": [
            "circle\n",
            "square\n",
            "triangle\n"
          ],
          "name": "stdout"
        }
      ]
    },
    {
      "cell_type": "code",
      "metadata": {
        "id": "u3ySR-x9j_79",
        "colab": {
          "base_uri": "https://localhost:8080/",
          "height": 33
        },
        "outputId": "9655e367-1347-4951-bf2e-2d0884021b03"
      },
      "source": [
        "set_of_shapes.add('polygon') \n",
        "print(set_of_shapes)"
      ],
      "execution_count": null,
      "outputs": [
        {
          "output_type": "stream",
          "text": [
            "{'polygon', 'circle', 'square', 'triangle'}\n"
          ],
          "name": "stdout"
        }
      ]
    },
    {
      "cell_type": "markdown",
      "metadata": {
        "id": "97qwGP_Dka_m"
      },
      "source": [
        "### IF statmen"
      ]
    },
    {
      "cell_type": "code",
      "metadata": {
        "id": "3qkrV63wkLB4",
        "colab": {
          "base_uri": "https://localhost:8080/",
          "height": 84
        },
        "outputId": "8f97e09b-8439-4f28-bd2a-ffc8127575ce"
      },
      "source": [
        "# A list of desserts I like.\n",
        "desserts = ['ice cream', 'chocolate', 'apple crisp', 'cookies']\n",
        "favorite_dessert = 'apple crisp'\n",
        "\n",
        "# Print the desserts out, but let everyone know my favorite dessert.\n",
        "for dessert in desserts:\n",
        "    if dessert == favorite_dessert:\n",
        "        # This dessert is my favorite, let's let everyone know!\n",
        "        print(\"%s is my favorite dessert!\" % dessert.title())\n",
        "    else:\n",
        "        # I like these desserts, but they are not my favorite.\n",
        "        print(\"I like %s.\" % dessert)"
      ],
      "execution_count": null,
      "outputs": [
        {
          "output_type": "stream",
          "text": [
            "I like ice cream.\n",
            "I like chocolate.\n",
            "Apple Crisp is my favorite dessert!\n",
            "I like cookies.\n"
          ],
          "name": "stdout"
        }
      ]
    },
    {
      "cell_type": "markdown",
      "metadata": {
        "id": "zOx4Vcaak6W4"
      },
      "source": [
        "### Logical Tests"
      ]
    },
    {
      "cell_type": "markdown",
      "metadata": {
        "id": "OkuhBPHIlKdZ"
      },
      "source": [
        "Setiap pernyataan if dievaluasi menjadi *Benar* atau *Salah*. *Benar* dan *Salah* adalah kata kunci Python, yang memiliki arti khusus yang melekat padanya. Anda dapat menguji untuk kondisi berikut ini dalam pernyataan if Anda:\n",
        "\n",
        "- [equality](#equality) (==)\n",
        "- [inequality](#inequality) (!=)\n",
        "- [other inequalities](#other_inequalities)\n",
        "    - greater than (>)\n",
        "    - greater than or equal to (>=)\n",
        "    - less than (<)\n",
        "    - less than or equal to (<=)\n",
        "- [You can test if an item is **in** a list.](#in_list)"
      ]
    },
    {
      "cell_type": "markdown",
      "metadata": {
        "id": "mygHvmEWmHLr"
      },
      "source": [
        "### Equality"
      ]
    },
    {
      "cell_type": "code",
      "metadata": {
        "id": "OBGqdtQjkln1",
        "colab": {
          "base_uri": "https://localhost:8080/",
          "height": 33
        },
        "outputId": "c138f211-4e2e-480a-8c65-b60dbefdc5b5"
      },
      "source": [
        "5 == 5"
      ],
      "execution_count": null,
      "outputs": [
        {
          "output_type": "execute_result",
          "data": {
            "text/plain": [
              "True"
            ]
          },
          "metadata": {
            "tags": []
          },
          "execution_count": 83
        }
      ]
    },
    {
      "cell_type": "code",
      "metadata": {
        "id": "j94TuKZelWos",
        "colab": {
          "base_uri": "https://localhost:8080/",
          "height": 33
        },
        "outputId": "69179dff-a57d-48ae-c93a-8ea3484b92c3"
      },
      "source": [
        "3 == 5 "
      ],
      "execution_count": null,
      "outputs": [
        {
          "output_type": "execute_result",
          "data": {
            "text/plain": [
              "False"
            ]
          },
          "metadata": {
            "tags": []
          },
          "execution_count": 84
        }
      ]
    },
    {
      "cell_type": "code",
      "metadata": {
        "id": "7TOkWiZllX7Y",
        "colab": {
          "base_uri": "https://localhost:8080/",
          "height": 33
        },
        "outputId": "413df79d-c138-45f9-bf7a-0f66e6f83c75"
      },
      "source": [
        "5 == 5.0"
      ],
      "execution_count": null,
      "outputs": [
        {
          "output_type": "execute_result",
          "data": {
            "text/plain": [
              "True"
            ]
          },
          "metadata": {
            "tags": []
          },
          "execution_count": 85
        }
      ]
    },
    {
      "cell_type": "code",
      "metadata": {
        "id": "qk7iLjaslZ08",
        "colab": {
          "base_uri": "https://localhost:8080/",
          "height": 33
        },
        "outputId": "3b23edd0-c453-44f1-fddd-595f6d9355af"
      },
      "source": [
        "'nadya' == 'nadya'"
      ],
      "execution_count": null,
      "outputs": [
        {
          "output_type": "execute_result",
          "data": {
            "text/plain": [
              "True"
            ]
          },
          "metadata": {
            "tags": []
          },
          "execution_count": 89
        }
      ]
    },
    {
      "cell_type": "code",
      "metadata": {
        "id": "iEmx0ypulbWA",
        "colab": {
          "base_uri": "https://localhost:8080/",
          "height": 33
        },
        "outputId": "49445e39-a8da-4787-d712-05c3b1cb4675"
      },
      "source": [
        "'Nadya' == 'nadya'"
      ],
      "execution_count": null,
      "outputs": [
        {
          "output_type": "execute_result",
          "data": {
            "text/plain": [
              "False"
            ]
          },
          "metadata": {
            "tags": []
          },
          "execution_count": 90
        }
      ]
    },
    {
      "cell_type": "code",
      "metadata": {
        "id": "wWZfBHleleGD",
        "colab": {
          "base_uri": "https://localhost:8080/",
          "height": 33
        },
        "outputId": "057a2a6c-5154-4b89-ac07-1942f86dd2df"
      },
      "source": [
        "'Nadya'.lower() == 'nadya'.lower()"
      ],
      "execution_count": null,
      "outputs": [
        {
          "output_type": "execute_result",
          "data": {
            "text/plain": [
              "True"
            ]
          },
          "metadata": {
            "tags": []
          },
          "execution_count": 91
        }
      ]
    },
    {
      "cell_type": "code",
      "metadata": {
        "id": "ZxIM96j0lg0e"
      },
      "source": [
        "nadya = 'Husna'"
      ],
      "execution_count": null,
      "outputs": []
    },
    {
      "cell_type": "code",
      "metadata": {
        "id": "RFF7UH45lvcM",
        "colab": {
          "base_uri": "https://localhost:8080/",
          "height": 33
        },
        "outputId": "8442ef30-1216-4e51-cb34-df74124ea2c0"
      },
      "source": [
        "nadya == 'Husna'"
      ],
      "execution_count": null,
      "outputs": [
        {
          "output_type": "execute_result",
          "data": {
            "text/plain": [
              "True"
            ]
          },
          "metadata": {
            "tags": []
          },
          "execution_count": 96
        }
      ]
    },
    {
      "cell_type": "markdown",
      "metadata": {
        "id": "ZfmZs8MWmK4D"
      },
      "source": [
        "### Inequality"
      ]
    },
    {
      "cell_type": "code",
      "metadata": {
        "id": "ZEO01IgVl1fO",
        "colab": {
          "base_uri": "https://localhost:8080/",
          "height": 33
        },
        "outputId": "50d2e123-3938-4210-e2ce-a27d82100c8d"
      },
      "source": [
        "3 != 5"
      ],
      "execution_count": null,
      "outputs": [
        {
          "output_type": "execute_result",
          "data": {
            "text/plain": [
              "True"
            ]
          },
          "metadata": {
            "tags": []
          },
          "execution_count": 97
        }
      ]
    },
    {
      "cell_type": "code",
      "metadata": {
        "id": "wSqINsR4mNzu",
        "colab": {
          "base_uri": "https://localhost:8080/",
          "height": 33
        },
        "outputId": "19810eac-08e1-43f6-932c-53f73d58a62c"
      },
      "source": [
        "5 != 5"
      ],
      "execution_count": null,
      "outputs": [
        {
          "output_type": "execute_result",
          "data": {
            "text/plain": [
              "False"
            ]
          },
          "metadata": {
            "tags": []
          },
          "execution_count": 98
        }
      ]
    },
    {
      "cell_type": "markdown",
      "metadata": {
        "id": "nIaqVJJumToC"
      },
      "source": [
        "#### greater than"
      ]
    },
    {
      "cell_type": "code",
      "metadata": {
        "id": "Sdra4QVrmPSU",
        "colab": {
          "base_uri": "https://localhost:8080/",
          "height": 33
        },
        "outputId": "a771b1c1-2572-4eb8-cb90-5183e6778bf2"
      },
      "source": [
        "5 > 3"
      ],
      "execution_count": null,
      "outputs": [
        {
          "output_type": "execute_result",
          "data": {
            "text/plain": [
              "True"
            ]
          },
          "metadata": {
            "tags": []
          },
          "execution_count": 99
        }
      ]
    },
    {
      "cell_type": "code",
      "metadata": {
        "id": "FE5rDcIQmW7R",
        "colab": {
          "base_uri": "https://localhost:8080/",
          "height": 33
        },
        "outputId": "f4f4aa59-6949-4a19-b507-6dab8bc947aa"
      },
      "source": [
        "5 >= 3"
      ],
      "execution_count": null,
      "outputs": [
        {
          "output_type": "execute_result",
          "data": {
            "text/plain": [
              "True"
            ]
          },
          "metadata": {
            "tags": []
          },
          "execution_count": 100
        }
      ]
    },
    {
      "cell_type": "markdown",
      "metadata": {
        "id": "UYUe0BcJmfEO"
      },
      "source": [
        "#### Less than"
      ]
    },
    {
      "cell_type": "code",
      "metadata": {
        "id": "PAaxDnS3mcEZ",
        "colab": {
          "base_uri": "https://localhost:8080/",
          "height": 33
        },
        "outputId": "32324148-0d0c-47ae-d875-b0423bf8d307"
      },
      "source": [
        "3 < 5"
      ],
      "execution_count": null,
      "outputs": [
        {
          "output_type": "execute_result",
          "data": {
            "text/plain": [
              "True"
            ]
          },
          "metadata": {
            "tags": []
          },
          "execution_count": 101
        }
      ]
    },
    {
      "cell_type": "markdown",
      "metadata": {
        "id": "THQA3sN_nhk4"
      },
      "source": [
        "# FUNGSI"
      ]
    },
    {
      "cell_type": "code",
      "metadata": {
        "id": "dbb993pauT4Z"
      },
      "source": [
        "# Let's define a function.\n",
        "def nama_fungsi(parameter):\n",
        "  isi fungsi"
      ],
      "execution_count": null,
      "outputs": []
    },
    {
      "cell_type": "code",
      "metadata": {
        "id": "BHS9s6-BuX1D"
      },
      "source": [
        "def getMaxNumber(list_x) :\n",
        "  max_number = 0\n",
        "  for num in list_x :\n",
        "    if (num > max_number) :\n",
        "       max_number = num\n",
        "  return max_number"
      ],
      "execution_count": null,
      "outputs": []
    },
    {
      "cell_type": "code",
      "metadata": {
        "id": "q4JpVgmVurhk"
      },
      "source": [
        "nilai = [20,100, 90,80,75]"
      ],
      "execution_count": null,
      "outputs": []
    },
    {
      "cell_type": "code",
      "metadata": {
        "id": "GcpCIQBfukqP",
        "colab": {
          "base_uri": "https://localhost:8080/",
          "height": 33
        },
        "outputId": "95464d75-9623-4eef-c120-00c04761af5a"
      },
      "source": [
        "getMaxNumber(nilai)"
      ],
      "execution_count": null,
      "outputs": [
        {
          "output_type": "execute_result",
          "data": {
            "text/plain": [
              "100"
            ]
          },
          "metadata": {
            "tags": []
          },
          "execution_count": 114
        }
      ]
    },
    {
      "cell_type": "code",
      "metadata": {
        "id": "5nFW268ov3Dl"
      },
      "source": [
        "def thank_you(name):\n",
        "    # fungsi ini akan mencetak 2 pesan\n",
        "    print(\"\\nYou are doing good work, %s!\" % name)\n",
        "    print(\"Thank you very much for your efforts on this project.\")"
      ],
      "execution_count": null,
      "outputs": []
    },
    {
      "cell_type": "code",
      "metadata": {
        "id": "_nF8umAHwbtA",
        "colab": {
          "base_uri": "https://localhost:8080/",
          "height": 67
        },
        "outputId": "97dcb5a5-6354-4dbd-e886-ceff27c47381"
      },
      "source": [
        "thank_you('nadya')"
      ],
      "execution_count": null,
      "outputs": [
        {
          "output_type": "stream",
          "text": [
            "\n",
            "You are doing good work, nadya!\n",
            "Thank you very much for your efforts on this project.\n"
          ],
          "name": "stdout"
        }
      ]
    },
    {
      "cell_type": "markdown",
      "metadata": {
        "id": "0ZODVrVMw1t9"
      },
      "source": [
        "fungsi harus di definisikan terlebiih dahulu"
      ]
    },
    {
      "cell_type": "code",
      "metadata": {
        "id": "vsZ5oKbLweo-",
        "colab": {
          "base_uri": "https://localhost:8080/",
          "height": 299
        },
        "outputId": "dd9dc25c-3292-44d7-a3a8-b47f5ccbb5e2"
      },
      "source": [
        "\n",
        "def terimakasih(name):\n",
        "    \n",
        "    print(\"\\nYou are doing good work, %s!\" % name)\n",
        "    print(\"Thank you very much for your efforts on this project.\")\n",
        "terimakasih('Adriana')\n",
        "terimakasih('Billy')\n",
        "thank_you('Caroline')\n"
      ],
      "execution_count": null,
      "outputs": [
        {
          "output_type": "stream",
          "text": [
            "\n",
            "You are doing good work, Adriana!\n",
            "Thank you very much for your efforts on this project.\n",
            "\n",
            "You are doing good work, Billy!\n",
            "Thank you very much for your efforts on this project.\n"
          ],
          "name": "stdout"
        },
        {
          "output_type": "error",
          "ename": "NameError",
          "evalue": "ignored",
          "traceback": [
            "\u001b[0;31m---------------------------------------------------------------------------\u001b[0m",
            "\u001b[0;31mNameError\u001b[0m                                 Traceback (most recent call last)",
            "\u001b[0;32m<ipython-input-2-63f7c4261aac>\u001b[0m in \u001b[0;36m<module>\u001b[0;34m()\u001b[0m\n\u001b[1;32m      6\u001b[0m \u001b[0mterimakasih\u001b[0m\u001b[0;34m(\u001b[0m\u001b[0;34m'Adriana'\u001b[0m\u001b[0;34m)\u001b[0m\u001b[0;34m\u001b[0m\u001b[0;34m\u001b[0m\u001b[0m\n\u001b[1;32m      7\u001b[0m \u001b[0mterimakasih\u001b[0m\u001b[0;34m(\u001b[0m\u001b[0;34m'Billy'\u001b[0m\u001b[0;34m)\u001b[0m\u001b[0;34m\u001b[0m\u001b[0;34m\u001b[0m\u001b[0m\n\u001b[0;32m----> 8\u001b[0;31m \u001b[0mthank_you\u001b[0m\u001b[0;34m(\u001b[0m\u001b[0;34m'Caroline'\u001b[0m\u001b[0;34m)\u001b[0m\u001b[0;34m\u001b[0m\u001b[0;34m\u001b[0m\u001b[0m\n\u001b[0m",
            "\u001b[0;31mNameError\u001b[0m: name 'thank_you' is not defined"
          ]
        }
      ]
    },
    {
      "cell_type": "code",
      "metadata": {
        "id": "hZxGxbr2zL20",
        "colab": {
          "base_uri": "https://localhost:8080/",
          "height": 151
        },
        "outputId": "746408e7-3428-45c1-f623-ce466e32e47c"
      },
      "source": [
        "def describe_person(first_name, last_name, age):\n",
        "    # This function takes in a person's first and last name,\n",
        "    #  and their age.\n",
        "    # It then prints this information out in a simple format.\n",
        "    print(\"First name: %s\" % first_name.title())\n",
        "    print(\"Last name: %s\" % last_name.title())\n",
        "    print(\"Age: %d\\n\" % age)\n",
        "\n",
        "describe_person('nadya', 'husna', 23)\n",
        "describe_person('nalendra', 'dwimantara', 24)"
      ],
      "execution_count": null,
      "outputs": [
        {
          "output_type": "stream",
          "text": [
            "First name: Nadya\n",
            "Last name: Husna\n",
            "Age: 23\n",
            "\n",
            "First name: Nalendra\n",
            "Last name: Dwimantara\n",
            "Age: 24\n",
            "\n"
          ],
          "name": "stdout"
        }
      ]
    },
    {
      "cell_type": "code",
      "metadata": {
        "id": "0vAMab40zhzZ",
        "colab": {
          "base_uri": "https://localhost:8080/",
          "height": 331
        },
        "outputId": "68d86df0-329a-41fe-f6eb-8f8e1e69dd67"
      },
      "source": [
        "def describe_person(first_name, last_name, age):\n",
        "    # This function takes in a person's first and last name,\n",
        "    #  and their age.\n",
        "    # It then prints this information out in a simple format.\n",
        "    print(\"First name: %s\" % first_name.title())\n",
        "    print(\"Last name: %s\" % last_name.title())\n",
        "    print(\"Age: %d\\n\" % age)\n",
        "\n",
        "describe_person(23, 'nadya', 'husna')\n",
        "describe_person(24,'nalendra', 'dwimantara')"
      ],
      "execution_count": null,
      "outputs": [
        {
          "output_type": "error",
          "ename": "AttributeError",
          "evalue": "ignored",
          "traceback": [
            "\u001b[0;31m---------------------------------------------------------------------------\u001b[0m",
            "\u001b[0;31mAttributeError\u001b[0m                            Traceback (most recent call last)",
            "\u001b[0;32m<ipython-input-130-c87373bef4e2>\u001b[0m in \u001b[0;36m<module>\u001b[0;34m()\u001b[0m\n\u001b[1;32m      7\u001b[0m     \u001b[0mprint\u001b[0m\u001b[0;34m(\u001b[0m\u001b[0;34m\"Age: %d\\n\"\u001b[0m \u001b[0;34m%\u001b[0m \u001b[0mage\u001b[0m\u001b[0;34m)\u001b[0m\u001b[0;34m\u001b[0m\u001b[0;34m\u001b[0m\u001b[0m\n\u001b[1;32m      8\u001b[0m \u001b[0;34m\u001b[0m\u001b[0m\n\u001b[0;32m----> 9\u001b[0;31m \u001b[0mdescribe_person\u001b[0m\u001b[0;34m(\u001b[0m\u001b[0;36m23\u001b[0m\u001b[0;34m,\u001b[0m \u001b[0;34m'nadya'\u001b[0m\u001b[0;34m,\u001b[0m \u001b[0;34m'husna'\u001b[0m\u001b[0;34m)\u001b[0m\u001b[0;34m\u001b[0m\u001b[0;34m\u001b[0m\u001b[0m\n\u001b[0m\u001b[1;32m     10\u001b[0m \u001b[0mdescribe_person\u001b[0m\u001b[0;34m(\u001b[0m\u001b[0;36m24\u001b[0m\u001b[0;34m,\u001b[0m\u001b[0;34m'nalendra'\u001b[0m\u001b[0;34m,\u001b[0m \u001b[0;34m'dwimantara'\u001b[0m\u001b[0;34m)\u001b[0m\u001b[0;34m\u001b[0m\u001b[0;34m\u001b[0m\u001b[0m\n",
            "\u001b[0;32m<ipython-input-130-c87373bef4e2>\u001b[0m in \u001b[0;36mdescribe_person\u001b[0;34m(first_name, last_name, age)\u001b[0m\n\u001b[1;32m      3\u001b[0m     \u001b[0;31m#  and their age.\u001b[0m\u001b[0;34m\u001b[0m\u001b[0;34m\u001b[0m\u001b[0;34m\u001b[0m\u001b[0m\n\u001b[1;32m      4\u001b[0m     \u001b[0;31m# It then prints this information out in a simple format.\u001b[0m\u001b[0;34m\u001b[0m\u001b[0;34m\u001b[0m\u001b[0;34m\u001b[0m\u001b[0m\n\u001b[0;32m----> 5\u001b[0;31m     \u001b[0mprint\u001b[0m\u001b[0;34m(\u001b[0m\u001b[0;34m\"First name: %s\"\u001b[0m \u001b[0;34m%\u001b[0m \u001b[0mfirst_name\u001b[0m\u001b[0;34m.\u001b[0m\u001b[0mtitle\u001b[0m\u001b[0;34m(\u001b[0m\u001b[0;34m)\u001b[0m\u001b[0;34m)\u001b[0m\u001b[0;34m\u001b[0m\u001b[0;34m\u001b[0m\u001b[0m\n\u001b[0m\u001b[1;32m      6\u001b[0m     \u001b[0mprint\u001b[0m\u001b[0;34m(\u001b[0m\u001b[0;34m\"Last name: %s\"\u001b[0m \u001b[0;34m%\u001b[0m \u001b[0mlast_name\u001b[0m\u001b[0;34m.\u001b[0m\u001b[0mtitle\u001b[0m\u001b[0;34m(\u001b[0m\u001b[0;34m)\u001b[0m\u001b[0;34m)\u001b[0m\u001b[0;34m\u001b[0m\u001b[0;34m\u001b[0m\u001b[0m\n\u001b[1;32m      7\u001b[0m     \u001b[0mprint\u001b[0m\u001b[0;34m(\u001b[0m\u001b[0;34m\"Age: %d\\n\"\u001b[0m \u001b[0;34m%\u001b[0m \u001b[0mage\u001b[0m\u001b[0;34m)\u001b[0m\u001b[0;34m\u001b[0m\u001b[0;34m\u001b[0m\u001b[0m\n",
            "\u001b[0;31mAttributeError\u001b[0m: 'int' object has no attribute 'title'"
          ]
        }
      ]
    },
    {
      "cell_type": "code",
      "metadata": {
        "id": "pR26ZgXczvmB",
        "colab": {
          "base_uri": "https://localhost:8080/",
          "height": 151
        },
        "outputId": "a216f005-6c26-488d-d582-d61012947289"
      },
      "source": [
        "def describe_person(first_name, last_name, age):\n",
        "    # This function takes in a person's first and last name,\n",
        "    #  and their age.\n",
        "    # It then prints this information out in a simple format.\n",
        "    print(\"First name: %s\" % first_name.title())\n",
        "    print(\"Last name: %s\" % last_name.title())\n",
        "    print(\"Age: %d\\n\" % age)\n",
        "\n",
        "describe_person(age=23, first_name='nadya', last_name='husna')\n",
        "describe_person(age=24, first_name='nalendra', last_name='dwimantara')"
      ],
      "execution_count": null,
      "outputs": [
        {
          "output_type": "stream",
          "text": [
            "First name: Nadya\n",
            "Last name: Husna\n",
            "Age: 23\n",
            "\n",
            "First name: Nalendra\n",
            "Last name: Dwimantara\n",
            "Age: 24\n",
            "\n"
          ],
          "name": "stdout"
        }
      ]
    },
    {
      "cell_type": "markdown",
      "metadata": {
        "id": "wziB-tPjxxS0"
      },
      "source": [
        "<a name='keep_running'> </a> Menggunakan while untuk menjaga agar program kita tetap berjalan\n",
        "==="
      ]
    },
    {
      "cell_type": "code",
      "metadata": {
        "id": "-4982qr7woGJ",
        "colab": {
          "base_uri": "https://localhost:8080/",
          "height": 84
        },
        "outputId": "495ce955-b949-436d-d9de-77ca368d4ae7"
      },
      "source": [
        "# Start with an empty list. You can 'seed' the list with\n",
        "#  some predefined values if you like.\n",
        "names = []\n",
        "\n",
        "# Set new_name to something other than 'quit'.\n",
        "new_name = ''\n",
        "\n",
        "# Start a loop that will run until the user enters 'quit'.\n",
        "while new_name != 'quit':\n",
        "    # Ask the user for a name.\n",
        "    new_name = input(\"Please tell me someone I should know, or enter 'quit': \")\n",
        "\n",
        "    # Add the new name to our list.\n",
        "    names.append(new_name)\n",
        "\n",
        "# Show that the name has been added to the list.\n",
        "print(names)"
      ],
      "execution_count": null,
      "outputs": [
        {
          "output_type": "stream",
          "text": [
            "Please tell me someone I should know, or enter 'quit': nadya\n",
            "Please tell me someone I should know, or enter 'quit': asanul\n",
            "Please tell me someone I should know, or enter 'quit': quit\n",
            "['nadya', 'asanul', 'quit']\n"
          ],
          "name": "stdout"
        }
      ]
    },
    {
      "cell_type": "code",
      "metadata": {
        "id": "lr1kR_msxzSG",
        "colab": {
          "base_uri": "https://localhost:8080/",
          "height": 100
        },
        "outputId": "c915ec83-43ab-4ef0-e650-b84d58d7faf6"
      },
      "source": [
        "i = 1\n",
        "while i < 6:\n",
        "  print(i)\n",
        "  i += 1"
      ],
      "execution_count": null,
      "outputs": [
        {
          "output_type": "stream",
          "text": [
            "1\n",
            "2\n",
            "3\n",
            "4\n",
            "5\n"
          ],
          "name": "stdout"
        }
      ]
    },
    {
      "cell_type": "code",
      "metadata": {
        "id": "OwVaORj1yfwJ",
        "colab": {
          "base_uri": "https://localhost:8080/",
          "height": 33
        },
        "outputId": "bc702a67-05bc-49b3-9936-cb3c9c112c86"
      },
      "source": [
        "i = 6\n",
        "while i < 6:\n",
        "  print(i)\n",
        "  i += 1\n",
        "else:\n",
        "  print(\"i is no longer less than 6\")"
      ],
      "execution_count": null,
      "outputs": [
        {
          "output_type": "stream",
          "text": [
            "i is no longer less than 6\n"
          ],
          "name": "stdout"
        }
      ]
    },
    {
      "cell_type": "markdown",
      "metadata": {
        "id": "U8rpBzEI0HVz"
      },
      "source": [
        "Dictionaries (Data Structure)\n",
        "==="
      ]
    },
    {
      "cell_type": "markdown",
      "metadata": {
        "id": "7Rr7EIOW0TFd"
      },
      "source": [
        "Dictionaries adalah cara untuk menyimpan informasi yang terhubung dalam beberapa cara. Kamus menyimpan informasi dalam pasangan nilai kunci, sehingga setiap bagian informasi dalam kamus terhubung ke setidaknya satu informasi lainnya.\n",
        "\n",
        "Kamus tidak menyimpan informasi mereka dalam urutan tertentu, jadi Anda mungkin tidak mendapatkan informasi Anda kembali dalam urutan yang sama seperti yang Anda masukkan."
      ]
    },
    {
      "cell_type": "markdown",
      "metadata": {
        "id": "qGVxNRV50XnJ"
      },
      "source": [
        "### General syntax"
      ]
    },
    {
      "cell_type": "code",
      "metadata": {
        "id": "x1qF656oymHs"
      },
      "source": [
        "\n",
        "dictionary_name = {key_1: value_1, key_2: value_2, key_3: value_3}"
      ],
      "execution_count": null,
      "outputs": []
    },
    {
      "cell_type": "code",
      "metadata": {
        "id": "DvNtNO990hFu"
      },
      "source": [
        "dictionary_name = {key_1: value_1,\n",
        "                   key_2: value_2,\n",
        "                   key_3: value_3,\n",
        "                   }"
      ],
      "execution_count": null,
      "outputs": []
    },
    {
      "cell_type": "markdown",
      "metadata": {
        "id": "3267L3z80hvz"
      },
      "source": [
        "### Contoh"
      ]
    },
    {
      "cell_type": "code",
      "metadata": {
        "id": "j2vRZvhT0lXG"
      },
      "source": [
        "Dict = {'fish':12, 'cat':7}"
      ],
      "execution_count": null,
      "outputs": []
    },
    {
      "cell_type": "code",
      "metadata": {
        "id": "Pu84MPqP0s_s",
        "colab": {
          "base_uri": "https://localhost:8080/",
          "height": 163
        },
        "outputId": "14933c74-d171-4ea9-d7d9-71539398c148"
      },
      "source": [
        "Dict.has_key('dog') "
      ],
      "execution_count": null,
      "outputs": [
        {
          "output_type": "error",
          "ename": "AttributeError",
          "evalue": "ignored",
          "traceback": [
            "\u001b[0;31m---------------------------------------------------------------------------\u001b[0m",
            "\u001b[0;31mAttributeError\u001b[0m                            Traceback (most recent call last)",
            "\u001b[0;32m<ipython-input-137-0893a916eedc>\u001b[0m in \u001b[0;36m<module>\u001b[0;34m()\u001b[0m\n\u001b[0;32m----> 1\u001b[0;31m \u001b[0mDict\u001b[0m\u001b[0;34m.\u001b[0m\u001b[0mhas_key\u001b[0m\u001b[0;34m(\u001b[0m\u001b[0;34m'dog'\u001b[0m\u001b[0;34m)\u001b[0m\u001b[0;34m\u001b[0m\u001b[0;34m\u001b[0m\u001b[0m\n\u001b[0m",
            "\u001b[0;31mAttributeError\u001b[0m: 'dict' object has no attribute 'has_key'"
          ]
        }
      ]
    },
    {
      "cell_type": "markdown",
      "metadata": {
        "id": "xt-xEIHP1KeP"
      },
      "source": [
        "• Dict.has_key('dog') --> False \\\\\n",
        "• Dict.keys() --> memberikan daftar semua indeks \\\\\n",
        "• Dict.values() --> memberikan daftar semua nilai \\\\\n",
        "• Dict.items() --> memberikan daftar pasangan indeknilai"
      ]
    },
    {
      "cell_type": "code",
      "metadata": {
        "id": "T61VGFDS0wu6",
        "colab": {
          "base_uri": "https://localhost:8080/",
          "height": 33
        },
        "outputId": "f7eedac1-908e-445f-a7c2-cd2b9be2349a"
      },
      "source": [
        "Dict.keys()"
      ],
      "execution_count": null,
      "outputs": [
        {
          "output_type": "execute_result",
          "data": {
            "text/plain": [
              "dict_keys(['fish', 'cat'])"
            ]
          },
          "metadata": {
            "tags": []
          },
          "execution_count": 138
        }
      ]
    },
    {
      "cell_type": "code",
      "metadata": {
        "id": "BxuaEtXh1B2O",
        "colab": {
          "base_uri": "https://localhost:8080/",
          "height": 33
        },
        "outputId": "9f073deb-0f4b-484f-efc3-f0b3cb16d1b0"
      },
      "source": [
        "Dict.values() "
      ],
      "execution_count": null,
      "outputs": [
        {
          "output_type": "execute_result",
          "data": {
            "text/plain": [
              "dict_values([12, 7])"
            ]
          },
          "metadata": {
            "tags": []
          },
          "execution_count": 139
        }
      ]
    },
    {
      "cell_type": "code",
      "metadata": {
        "id": "hvDLUkJF1E8G",
        "colab": {
          "base_uri": "https://localhost:8080/",
          "height": 33
        },
        "outputId": "a8659b3e-3e5e-4c6c-dd2d-af2025ee74a7"
      },
      "source": [
        "Dict.items() "
      ],
      "execution_count": null,
      "outputs": [
        {
          "output_type": "execute_result",
          "data": {
            "text/plain": [
              "dict_items([('fish', 12), ('cat', 7)])"
            ]
          },
          "metadata": {
            "tags": []
          },
          "execution_count": 140
        }
      ]
    },
    {
      "cell_type": "code",
      "metadata": {
        "id": "3H5Ejoab1HOw"
      },
      "source": [
        ""
      ],
      "execution_count": null,
      "outputs": []
    }
  ]
}
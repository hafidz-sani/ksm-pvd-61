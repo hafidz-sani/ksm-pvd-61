{
 "cells": [
  {
   "cell_type": "markdown",
   "metadata": {},
   "source": [
    "# Penugasan KSM 4 : Data Preprocessing"
   ]
  },
  {
   "cell_type": "markdown",
   "metadata": {},
   "source": [
    "<b>Identitas</b><br>\n",
    "<i>Nama : </i><br>\n",
    "<i>Kelas : </i><br>\n",
    "<i>Subdiv : </i><br>"
   ]
  },
  {
   "cell_type": "markdown",
   "metadata": {},
   "source": [
    "Silahkan baca dengan baik perintah yang dapat dikerjakan.\n",
    "\n",
    "1. Tugas yang dikerjakan adalah melakukan data preprocessing menggunakan dataset Train Titanic\n",
    "2. Link dataset : https://raw.githubusercontent.com/hafidz-sani/Datasets/main/titanic.csv\n",
    "3. Silahkan lakukan preprocessing data dari dataset diatas, seminimalnya ada proses EDA dan Handling Missing Value.\n",
    "4. Tugas boleh dikerjakan menggunakan Python ataupun R\n",
    "5. Tugas dikumpulkan dalam bentuk pdf pada folder pengumpulan jawaban dengan format preprocessing_bahasa pemrograman_nama.pdf\n",
    "6. Pastikan pull dari master terlebih dahulu, kemudian tugas dikumpulkan lewat push ke branch masing-masing.\n",
    "7. Deadline Minggu, 21 November 2021\n",
    "\n",
    "<b>Selamat Mengerjakan..., semangat PVD</b>"
   ]
  },
  {
   "cell_type": "markdown",
   "metadata": {},
   "source": [
    "# Dataset"
   ]
  },
  {
   "cell_type": "code",
   "execution_count": 7,
   "metadata": {},
   "outputs": [],
   "source": [
    "# TODO"
   ]
  },
  {
   "cell_type": "markdown",
   "metadata": {},
   "source": [
    "# Exploratory Data Analysis"
   ]
  },
  {
   "cell_type": "code",
   "execution_count": 8,
   "metadata": {},
   "outputs": [],
   "source": [
    "# TODO"
   ]
  },
  {
   "cell_type": "markdown",
   "metadata": {},
   "source": [
    "# Handling Missing Value"
   ]
  },
  {
   "cell_type": "code",
   "execution_count": 11,
   "metadata": {},
   "outputs": [],
   "source": [
    "# TODO"
   ]
  },
  {
   "cell_type": "markdown",
   "metadata": {},
   "source": [
    "# Data Transformation"
   ]
  },
  {
   "cell_type": "code",
   "execution_count": 12,
   "metadata": {},
   "outputs": [],
   "source": [
    "# TODO"
   ]
  },
  {
   "cell_type": "markdown",
   "metadata": {},
   "source": [
    "# Encoding"
   ]
  },
  {
   "cell_type": "code",
   "execution_count": 10,
   "metadata": {},
   "outputs": [],
   "source": [
    "# TODO"
   ]
  }
 ],
 "metadata": {
  "kernelspec": {
   "display_name": "Python 3",
   "language": "python",
   "name": "python3"
  },
  "language_info": {
   "codemirror_mode": {
    "name": "ipython",
    "version": 3
   },
   "file_extension": ".py",
   "mimetype": "text/x-python",
   "name": "python",
   "nbconvert_exporter": "python",
   "pygments_lexer": "ipython3",
   "version": "3.7.6"
  }
 },
 "nbformat": 4,
 "nbformat_minor": 4
}
